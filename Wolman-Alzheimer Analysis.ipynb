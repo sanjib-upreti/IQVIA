{
 "cells": [
  {
   "cell_type": "markdown",
   "metadata": {},
   "source": [
    "# Wolman -Alzheimer Analysis"
   ]
  },
  {
   "cell_type": "markdown",
   "metadata": {},
   "source": [
    " "
   ]
  },
  {
   "cell_type": "code",
   "execution_count": 1,
   "metadata": {},
   "outputs": [],
   "source": [
    "import pandas as pd\n",
    "import numpy as np\n",
    "import feedparser\n",
    "import seaborn as sns\n",
    "import matplotlib.pyplot as plt\n",
    "from datetime import datetime\n"
   ]
  },
  {
   "cell_type": "code",
   "execution_count": 5,
   "metadata": {},
   "outputs": [
    {
     "name": "stdout",
     "output_type": "stream",
     "text": [
      "dict_keys(['title', 'title_detail', 'links', 'link', 'summary', 'summary_detail', 'id', 'guidislink', 'published', 'published_parsed'])\n"
     ]
    }
   ],
   "source": [
    "wolman_d = feedparser.parse(\"https://clinicaltrials.gov/ct2/results/rss.xml?cond=Wolman+Disease&amp;sfpd_s=09%2F21%2F2020&amp;sfpd_d=14&amp;count=1000&amp;sel_rss=new14\")\n",
    "entry = wolman_d.entries[1]\n",
    "\n",
    "#print entry.keys()\n",
    "#fd\n",
    "#entry.keys()\n",
    "print(entry.keys())\n",
    "#type(entry)\n",
    "\n",
    "df = pd.DataFrame()\n",
    "\n"
   ]
  },
  {
   "cell_type": "code",
   "execution_count": 7,
   "metadata": {},
   "outputs": [
    {
     "data": {
      "text/html": [
       "<div>\n",
       "<style scoped>\n",
       "    .dataframe tbody tr th:only-of-type {\n",
       "        vertical-align: middle;\n",
       "    }\n",
       "\n",
       "    .dataframe tbody tr th {\n",
       "        vertical-align: top;\n",
       "    }\n",
       "\n",
       "    .dataframe thead th {\n",
       "        text-align: right;\n",
       "    }\n",
       "</style>\n",
       "<table border=\"1\" class=\"dataframe\">\n",
       "  <thead>\n",
       "    <tr style=\"text-align: right;\">\n",
       "      <th></th>\n",
       "      <th>title</th>\n",
       "      <th>summary_detail</th>\n",
       "      <th>summary</th>\n",
       "      <th>published</th>\n",
       "      <th>id</th>\n",
       "    </tr>\n",
       "  </thead>\n",
       "  <tbody>\n",
       "    <tr>\n",
       "      <th>0</th>\n",
       "      <td>A Retrospective Natural History Study of Patients With Lysosomal Acid Lipase Deficiency/Wolman Phenotype</td>\n",
       "      <td>{'type': 'text/html', 'language': None, 'base': 'https://clinicaltrials.gov/ct2/results/rss.xml?cond=Wolman+Disease&amp;amp;sfpd_s=09%2F21%2F2020&amp;amp;sfpd_d=14&amp;amp;count=1000&amp;amp;sel_rss=new14', 'value': '&lt;b&gt;Conditions&lt;/b&gt;:    Lysosomal Acid Lipase Deficiency;   Wolman Disease&lt;br /&gt;&lt;b&gt;Intervention&lt;/b&gt;:    &lt;br /&gt;&lt;b&gt;Sponsor&lt;/b&gt;:    Alexion Pharmaceuticals&lt;br /&gt;&lt;b&gt;Completed&lt;/b&gt;'}</td>\n",
       "      <td>&lt;b&gt;Conditions&lt;/b&gt;:    Lysosomal Acid Lipase Deficiency;   Wolman Disease&lt;br /&gt;&lt;b&gt;Intervention&lt;/b&gt;:    &lt;br /&gt;&lt;b&gt;Sponsor&lt;/b&gt;:    Alexion Pharmaceuticals&lt;br /&gt;&lt;b&gt;Completed&lt;/b&gt;</td>\n",
       "      <td>Mon, 23 May 2011 12:00:00 EDT</td>\n",
       "      <td>NCT01358370</td>\n",
       "    </tr>\n",
       "    <tr>\n",
       "      <th>1</th>\n",
       "      <td>Safety, Tolerability, Efficacy, Pharmacokinetics, and Pharmacodynamics of Sebelipase Alfa in Children With Growth Failure Due to Lysosomal Acid Lipase Deficiency</td>\n",
       "      <td>{'type': 'text/html', 'language': None, 'base': 'https://clinicaltrials.gov/ct2/results/rss.xml?cond=Wolman+Disease&amp;amp;sfpd_s=09%2F21%2F2020&amp;amp;sfpd_d=14&amp;amp;count=1000&amp;amp;sel_rss=new14', 'value': '&lt;b&gt;Conditions&lt;/b&gt;:    Lysosomal Acid Lipase Deficiency;   Wolman Disease&lt;br /&gt;&lt;b&gt;Intervention&lt;/b&gt;:    Drug: Sebelipase alfa (SBC-102)&lt;br /&gt;&lt;b&gt;Sponsor&lt;/b&gt;:    Alexion Pharmaceuticals&lt;br /&gt;&lt;b&gt;Completed&lt;/b&gt;'}</td>\n",
       "      <td>&lt;b&gt;Conditions&lt;/b&gt;:    Lysosomal Acid Lipase Deficiency;   Wolman Disease&lt;br /&gt;&lt;b&gt;Intervention&lt;/b&gt;:    Drug: Sebelipase alfa (SBC-102)&lt;br /&gt;&lt;b&gt;Sponsor&lt;/b&gt;:    Alexion Pharmaceuticals&lt;br /&gt;&lt;b&gt;Completed&lt;/b&gt;</td>\n",
       "      <td>Mon, 13 Jun 2011 12:00:00 EDT</td>\n",
       "      <td>NCT01371825</td>\n",
       "    </tr>\n",
       "    <tr>\n",
       "      <th>2</th>\n",
       "      <td>Lipa Gene Mutation in PED-LIPIGEN (Pediatric FH Subjects)</td>\n",
       "      <td>{'type': 'text/html', 'language': None, 'base': 'https://clinicaltrials.gov/ct2/results/rss.xml?cond=Wolman+Disease&amp;amp;sfpd_s=09%2F21%2F2020&amp;amp;sfpd_d=14&amp;amp;count=1000&amp;amp;sel_rss=new14', 'value': '&lt;b&gt;Condition&lt;/b&gt;:    Lysosomal Acid Lipase Deficiency&lt;br /&gt;&lt;b&gt;Intervention&lt;/b&gt;:    Other: Observational study&lt;br /&gt;&lt;b&gt;Sponsor&lt;/b&gt;:    Fondazione SISA (Societa Italiana per lo Studio della Arteriosclerosi)&lt;br /&gt;&lt;b&gt;Recruiting&lt;/b&gt;'}</td>\n",
       "      <td>&lt;b&gt;Condition&lt;/b&gt;:    Lysosomal Acid Lipase Deficiency&lt;br /&gt;&lt;b&gt;Intervention&lt;/b&gt;:    Other: Observational study&lt;br /&gt;&lt;b&gt;Sponsor&lt;/b&gt;:    Fondazione SISA (Societa Italiana per lo Studio della Arteriosclerosi)&lt;br /&gt;&lt;b&gt;Recruiting&lt;/b&gt;</td>\n",
       "      <td>Wed, 12 Jun 2019 12:00:00 EDT</td>\n",
       "      <td>NCT03984149</td>\n",
       "    </tr>\n",
       "    <tr>\n",
       "      <th>3</th>\n",
       "      <td>Biomarker for Wolman Disease (BioWolman)</td>\n",
       "      <td>{'type': 'text/html', 'language': None, 'base': 'https://clinicaltrials.gov/ct2/results/rss.xml?cond=Wolman+Disease&amp;amp;sfpd_s=09%2F21%2F2020&amp;amp;sfpd_d=14&amp;amp;count=1000&amp;amp;sel_rss=new14', 'value': '&lt;b&gt;Conditions&lt;/b&gt;:    Acid Lipase Deficiency;   Acid Cholesteryl Ester Hydrolase Deficiency, Wolman Type;   Cholesterol Ester Storage Disease&lt;br /&gt;&lt;b&gt;Intervention&lt;/b&gt;:    &lt;br /&gt;&lt;b&gt;Sponsor&lt;/b&gt;:    Centogene AG Rostock&lt;br /&gt;&lt;b&gt;Active, not recruiting&lt;/b&gt;'}</td>\n",
       "      <td>&lt;b&gt;Conditions&lt;/b&gt;:    Acid Lipase Deficiency;   Acid Cholesteryl Ester Hydrolase Deficiency, Wolman Type;   Cholesterol Ester Storage Disease&lt;br /&gt;&lt;b&gt;Intervention&lt;/b&gt;:    &lt;br /&gt;&lt;b&gt;Sponsor&lt;/b&gt;:    Centogene AG Rostock&lt;br /&gt;&lt;b&gt;Active, not recruiting&lt;/b&gt;</td>\n",
       "      <td>Mon, 09 Mar 2015 12:00:00 EDT</td>\n",
       "      <td>NCT02383641</td>\n",
       "    </tr>\n",
       "    <tr>\n",
       "      <th>4</th>\n",
       "      <td>An Expanded Access Protocol for Sebelipase Alfa for Patients With Lysosomal Acid Lipase Deficiency</td>\n",
       "      <td>{'type': 'text/html', 'language': None, 'base': 'https://clinicaltrials.gov/ct2/results/rss.xml?cond=Wolman+Disease&amp;amp;sfpd_s=09%2F21%2F2020&amp;amp;sfpd_d=14&amp;amp;count=1000&amp;amp;sel_rss=new14', 'value': '&lt;b&gt;Condition&lt;/b&gt;:    Lysosomal Acid Lipase Deficiency&lt;br /&gt;&lt;b&gt;Intervention&lt;/b&gt;:    Drug: sebelipase alfa&lt;br /&gt;&lt;b&gt;Sponsor&lt;/b&gt;:    Alexion Pharmaceuticals&lt;br /&gt;&lt;b&gt;No longer available&lt;/b&gt;'}</td>\n",
       "      <td>&lt;b&gt;Condition&lt;/b&gt;:    Lysosomal Acid Lipase Deficiency&lt;br /&gt;&lt;b&gt;Intervention&lt;/b&gt;:    Drug: sebelipase alfa&lt;br /&gt;&lt;b&gt;Sponsor&lt;/b&gt;:    Alexion Pharmaceuticals&lt;br /&gt;&lt;b&gt;No longer available&lt;/b&gt;</td>\n",
       "      <td>Tue, 03 Mar 2015 12:00:00 EST</td>\n",
       "      <td>NCT02376751</td>\n",
       "    </tr>\n",
       "    <tr>\n",
       "      <th>5</th>\n",
       "      <td>Clinical Study In Infants With Rapidly Progressive Lysosomal Acid Lipase Deficiency</td>\n",
       "      <td>{'type': 'text/html', 'language': None, 'base': 'https://clinicaltrials.gov/ct2/results/rss.xml?cond=Wolman+Disease&amp;amp;sfpd_s=09%2F21%2F2020&amp;amp;sfpd_d=14&amp;amp;count=1000&amp;amp;sel_rss=new14', 'value': '&lt;b&gt;Condition&lt;/b&gt;:    Lysosomal Acid Lipase Deficiency&lt;br /&gt;&lt;b&gt;Intervention&lt;/b&gt;:    Drug: Sebelipase Alfa&lt;br /&gt;&lt;b&gt;Sponsor&lt;/b&gt;:    Alexion Pharmaceuticals&lt;br /&gt;&lt;b&gt;Terminated&lt;/b&gt;'}</td>\n",
       "      <td>&lt;b&gt;Condition&lt;/b&gt;:    Lysosomal Acid Lipase Deficiency&lt;br /&gt;&lt;b&gt;Intervention&lt;/b&gt;:    Drug: Sebelipase Alfa&lt;br /&gt;&lt;b&gt;Sponsor&lt;/b&gt;:    Alexion Pharmaceuticals&lt;br /&gt;&lt;b&gt;Terminated&lt;/b&gt;</td>\n",
       "      <td>Fri, 18 Jul 2014 12:00:00 EDT</td>\n",
       "      <td>NCT02193867</td>\n",
       "    </tr>\n",
       "    <tr>\n",
       "      <th>6</th>\n",
       "      <td>Safety and Efficacy Study of Sebelipase Alfa in Participants With Lysosomal Acid Lipase Deficiency</td>\n",
       "      <td>{'type': 'text/html', 'language': None, 'base': 'https://clinicaltrials.gov/ct2/results/rss.xml?cond=Wolman+Disease&amp;amp;sfpd_s=09%2F21%2F2020&amp;amp;sfpd_d=14&amp;amp;count=1000&amp;amp;sel_rss=new14', 'value': '&lt;b&gt;Condition&lt;/b&gt;:    Lysosomal Acid Lipase Deficiency&lt;br /&gt;&lt;b&gt;Intervention&lt;/b&gt;:    Drug: Sebelipase Alfa&lt;br /&gt;&lt;b&gt;Sponsor&lt;/b&gt;:    Alexion Pharmaceuticals&lt;br /&gt;&lt;b&gt;Completed&lt;/b&gt;'}</td>\n",
       "      <td>&lt;b&gt;Condition&lt;/b&gt;:    Lysosomal Acid Lipase Deficiency&lt;br /&gt;&lt;b&gt;Intervention&lt;/b&gt;:    Drug: Sebelipase Alfa&lt;br /&gt;&lt;b&gt;Sponsor&lt;/b&gt;:    Alexion Pharmaceuticals&lt;br /&gt;&lt;b&gt;Completed&lt;/b&gt;</td>\n",
       "      <td>Mon, 14 Apr 2014 12:00:00 EDT</td>\n",
       "      <td>NCT02112994</td>\n",
       "    </tr>\n",
       "    <tr>\n",
       "      <th>7</th>\n",
       "      <td>Screening for Lysosomal Acid Lipase Deficiency</td>\n",
       "      <td>{'type': 'text/html', 'language': None, 'base': 'https://clinicaltrials.gov/ct2/results/rss.xml?cond=Wolman+Disease&amp;amp;sfpd_s=09%2F21%2F2020&amp;amp;sfpd_d=14&amp;amp;count=1000&amp;amp;sel_rss=new14', 'value': '&lt;b&gt;Condition&lt;/b&gt;:    Lysosomal Acid Lipase Deficiency&lt;br /&gt;&lt;b&gt;Intervention&lt;/b&gt;:    Other: There is no intervention in the study&lt;br /&gt;&lt;b&gt;Sponsor&lt;/b&gt;:    Alexion Pharmaceuticals&lt;br /&gt;&lt;b&gt;Terminated&lt;/b&gt;'}</td>\n",
       "      <td>&lt;b&gt;Condition&lt;/b&gt;:    Lysosomal Acid Lipase Deficiency&lt;br /&gt;&lt;b&gt;Intervention&lt;/b&gt;:    Other: There is no intervention in the study&lt;br /&gt;&lt;b&gt;Sponsor&lt;/b&gt;:    Alexion Pharmaceuticals&lt;br /&gt;&lt;b&gt;Terminated&lt;/b&gt;</td>\n",
       "      <td>Thu, 06 Oct 2016 12:00:00 EDT</td>\n",
       "      <td>NCT02926872</td>\n",
       "    </tr>\n",
       "    <tr>\n",
       "      <th>8</th>\n",
       "      <td>Acid Lipase Replacement Investigating Safety and Efficacy (ARISE) in Participants With Lysosomal Acid Lipase Deficiency</td>\n",
       "      <td>{'type': 'text/html', 'language': None, 'base': 'https://clinicaltrials.gov/ct2/results/rss.xml?cond=Wolman+Disease&amp;amp;sfpd_s=09%2F21%2F2020&amp;amp;sfpd_d=14&amp;amp;count=1000&amp;amp;sel_rss=new14', 'value': '&lt;b&gt;Condition&lt;/b&gt;:    Lysosomal Acid Lipase Deficiency&lt;br /&gt;&lt;b&gt;Interventions&lt;/b&gt;:    Drug: Sebelipase Alfa;   Drug: Placebo&lt;br /&gt;&lt;b&gt;Sponsor&lt;/b&gt;:    Alexion Pharmaceuticals&lt;br /&gt;&lt;b&gt;Completed&lt;/b&gt;'}</td>\n",
       "      <td>&lt;b&gt;Condition&lt;/b&gt;:    Lysosomal Acid Lipase Deficiency&lt;br /&gt;&lt;b&gt;Interventions&lt;/b&gt;:    Drug: Sebelipase Alfa;   Drug: Placebo&lt;br /&gt;&lt;b&gt;Sponsor&lt;/b&gt;:    Alexion Pharmaceuticals&lt;br /&gt;&lt;b&gt;Completed&lt;/b&gt;</td>\n",
       "      <td>Fri, 28 Dec 2012 12:00:00 EST</td>\n",
       "      <td>NCT01757184</td>\n",
       "    </tr>\n",
       "    <tr>\n",
       "      <th>9</th>\n",
       "      <td>National Lysosomal Acid Lipase Deficiency Study</td>\n",
       "      <td>{'type': 'text/html', 'language': None, 'base': 'https://clinicaltrials.gov/ct2/results/rss.xml?cond=Wolman+Disease&amp;amp;sfpd_s=09%2F21%2F2020&amp;amp;sfpd_d=14&amp;amp;count=1000&amp;amp;sel_rss=new14', 'value': '&lt;b&gt;Condition&lt;/b&gt;:    Cholesteryl Ester Storage Disease&lt;br /&gt;&lt;b&gt;Intervention&lt;/b&gt;:    &lt;br /&gt;&lt;b&gt;Sponsors&lt;/b&gt;:    Ankara University;   Alexion Pharmaceuticals&lt;br /&gt;&lt;b&gt;Completed&lt;/b&gt;'}</td>\n",
       "      <td>&lt;b&gt;Condition&lt;/b&gt;:    Cholesteryl Ester Storage Disease&lt;br /&gt;&lt;b&gt;Intervention&lt;/b&gt;:    &lt;br /&gt;&lt;b&gt;Sponsors&lt;/b&gt;:    Ankara University;   Alexion Pharmaceuticals&lt;br /&gt;&lt;b&gt;Completed&lt;/b&gt;</td>\n",
       "      <td>Thu, 26 Feb 2015 12:00:00 EST</td>\n",
       "      <td>NCT02372513</td>\n",
       "    </tr>\n",
       "  </tbody>\n",
       "</table>\n",
       "</div>"
      ],
      "text/plain": [
       "                                                                                                                                                               title  \\\n",
       "0                                                           A Retrospective Natural History Study of Patients With Lysosomal Acid Lipase Deficiency/Wolman Phenotype   \n",
       "1  Safety, Tolerability, Efficacy, Pharmacokinetics, and Pharmacodynamics of Sebelipase Alfa in Children With Growth Failure Due to Lysosomal Acid Lipase Deficiency   \n",
       "2                                                                                                          Lipa Gene Mutation in PED-LIPIGEN (Pediatric FH Subjects)   \n",
       "3                                                                                                                           Biomarker for Wolman Disease (BioWolman)   \n",
       "4                                                                 An Expanded Access Protocol for Sebelipase Alfa for Patients With Lysosomal Acid Lipase Deficiency   \n",
       "5                                                                                Clinical Study In Infants With Rapidly Progressive Lysosomal Acid Lipase Deficiency   \n",
       "6                                                                 Safety and Efficacy Study of Sebelipase Alfa in Participants With Lysosomal Acid Lipase Deficiency   \n",
       "7                                                                                                                     Screening for Lysosomal Acid Lipase Deficiency   \n",
       "8                                            Acid Lipase Replacement Investigating Safety and Efficacy (ARISE) in Participants With Lysosomal Acid Lipase Deficiency   \n",
       "9                                                                                                                    National Lysosomal Acid Lipase Deficiency Study   \n",
       "\n",
       "                                                                                                                                                                                                                                                                                                                                                                                                                                                           summary_detail  \\\n",
       "0                                                                                 {'type': 'text/html', 'language': None, 'base': 'https://clinicaltrials.gov/ct2/results/rss.xml?cond=Wolman+Disease&amp;sfpd_s=09%2F21%2F2020&amp;sfpd_d=14&amp;count=1000&amp;sel_rss=new14', 'value': '<b>Conditions</b>:    Lysosomal Acid Lipase Deficiency;   Wolman Disease<br /><b>Intervention</b>:    <br /><b>Sponsor</b>:    Alexion Pharmaceuticals<br /><b>Completed</b>'}   \n",
       "1                                                  {'type': 'text/html', 'language': None, 'base': 'https://clinicaltrials.gov/ct2/results/rss.xml?cond=Wolman+Disease&amp;sfpd_s=09%2F21%2F2020&amp;sfpd_d=14&amp;count=1000&amp;sel_rss=new14', 'value': '<b>Conditions</b>:    Lysosomal Acid Lipase Deficiency;   Wolman Disease<br /><b>Intervention</b>:    Drug: Sebelipase alfa (SBC-102)<br /><b>Sponsor</b>:    Alexion Pharmaceuticals<br /><b>Completed</b>'}   \n",
       "2                          {'type': 'text/html', 'language': None, 'base': 'https://clinicaltrials.gov/ct2/results/rss.xml?cond=Wolman+Disease&amp;sfpd_s=09%2F21%2F2020&amp;sfpd_d=14&amp;count=1000&amp;sel_rss=new14', 'value': '<b>Condition</b>:    Lysosomal Acid Lipase Deficiency<br /><b>Intervention</b>:    Other: Observational study<br /><b>Sponsor</b>:    Fondazione SISA (Societa Italiana per lo Studio della Arteriosclerosi)<br /><b>Recruiting</b>'}   \n",
       "3  {'type': 'text/html', 'language': None, 'base': 'https://clinicaltrials.gov/ct2/results/rss.xml?cond=Wolman+Disease&amp;sfpd_s=09%2F21%2F2020&amp;sfpd_d=14&amp;count=1000&amp;sel_rss=new14', 'value': '<b>Conditions</b>:    Acid Lipase Deficiency;   Acid Cholesteryl Ester Hydrolase Deficiency, Wolman Type;   Cholesterol Ester Storage Disease<br /><b>Intervention</b>:    <br /><b>Sponsor</b>:    Centogene AG Rostock<br /><b>Active, not recruiting</b>'}   \n",
       "4                                                                     {'type': 'text/html', 'language': None, 'base': 'https://clinicaltrials.gov/ct2/results/rss.xml?cond=Wolman+Disease&amp;sfpd_s=09%2F21%2F2020&amp;sfpd_d=14&amp;count=1000&amp;sel_rss=new14', 'value': '<b>Condition</b>:    Lysosomal Acid Lipase Deficiency<br /><b>Intervention</b>:    Drug: sebelipase alfa<br /><b>Sponsor</b>:    Alexion Pharmaceuticals<br /><b>No longer available</b>'}   \n",
       "5                                                                              {'type': 'text/html', 'language': None, 'base': 'https://clinicaltrials.gov/ct2/results/rss.xml?cond=Wolman+Disease&amp;sfpd_s=09%2F21%2F2020&amp;sfpd_d=14&amp;count=1000&amp;sel_rss=new14', 'value': '<b>Condition</b>:    Lysosomal Acid Lipase Deficiency<br /><b>Intervention</b>:    Drug: Sebelipase Alfa<br /><b>Sponsor</b>:    Alexion Pharmaceuticals<br /><b>Terminated</b>'}   \n",
       "6                                                                               {'type': 'text/html', 'language': None, 'base': 'https://clinicaltrials.gov/ct2/results/rss.xml?cond=Wolman+Disease&amp;sfpd_s=09%2F21%2F2020&amp;sfpd_d=14&amp;count=1000&amp;sel_rss=new14', 'value': '<b>Condition</b>:    Lysosomal Acid Lipase Deficiency<br /><b>Intervention</b>:    Drug: Sebelipase Alfa<br /><b>Sponsor</b>:    Alexion Pharmaceuticals<br /><b>Completed</b>'}   \n",
       "7                                                       {'type': 'text/html', 'language': None, 'base': 'https://clinicaltrials.gov/ct2/results/rss.xml?cond=Wolman+Disease&amp;sfpd_s=09%2F21%2F2020&amp;sfpd_d=14&amp;count=1000&amp;sel_rss=new14', 'value': '<b>Condition</b>:    Lysosomal Acid Lipase Deficiency<br /><b>Intervention</b>:    Other: There is no intervention in the study<br /><b>Sponsor</b>:    Alexion Pharmaceuticals<br /><b>Terminated</b>'}   \n",
       "8                                                             {'type': 'text/html', 'language': None, 'base': 'https://clinicaltrials.gov/ct2/results/rss.xml?cond=Wolman+Disease&amp;sfpd_s=09%2F21%2F2020&amp;sfpd_d=14&amp;count=1000&amp;sel_rss=new14', 'value': '<b>Condition</b>:    Lysosomal Acid Lipase Deficiency<br /><b>Interventions</b>:    Drug: Sebelipase Alfa;   Drug: Placebo<br /><b>Sponsor</b>:    Alexion Pharmaceuticals<br /><b>Completed</b>'}   \n",
       "9                                                                             {'type': 'text/html', 'language': None, 'base': 'https://clinicaltrials.gov/ct2/results/rss.xml?cond=Wolman+Disease&amp;sfpd_s=09%2F21%2F2020&amp;sfpd_d=14&amp;count=1000&amp;sel_rss=new14', 'value': '<b>Condition</b>:    Cholesteryl Ester Storage Disease<br /><b>Intervention</b>:    <br /><b>Sponsors</b>:    Ankara University;   Alexion Pharmaceuticals<br /><b>Completed</b>'}   \n",
       "\n",
       "                                                                                                                                                                                                                                                       summary  \\\n",
       "0                                                                                 <b>Conditions</b>:    Lysosomal Acid Lipase Deficiency;   Wolman Disease<br /><b>Intervention</b>:    <br /><b>Sponsor</b>:    Alexion Pharmaceuticals<br /><b>Completed</b>   \n",
       "1                                                  <b>Conditions</b>:    Lysosomal Acid Lipase Deficiency;   Wolman Disease<br /><b>Intervention</b>:    Drug: Sebelipase alfa (SBC-102)<br /><b>Sponsor</b>:    Alexion Pharmaceuticals<br /><b>Completed</b>   \n",
       "2                          <b>Condition</b>:    Lysosomal Acid Lipase Deficiency<br /><b>Intervention</b>:    Other: Observational study<br /><b>Sponsor</b>:    Fondazione SISA (Societa Italiana per lo Studio della Arteriosclerosi)<br /><b>Recruiting</b>   \n",
       "3  <b>Conditions</b>:    Acid Lipase Deficiency;   Acid Cholesteryl Ester Hydrolase Deficiency, Wolman Type;   Cholesterol Ester Storage Disease<br /><b>Intervention</b>:    <br /><b>Sponsor</b>:    Centogene AG Rostock<br /><b>Active, not recruiting</b>   \n",
       "4                                                                     <b>Condition</b>:    Lysosomal Acid Lipase Deficiency<br /><b>Intervention</b>:    Drug: sebelipase alfa<br /><b>Sponsor</b>:    Alexion Pharmaceuticals<br /><b>No longer available</b>   \n",
       "5                                                                              <b>Condition</b>:    Lysosomal Acid Lipase Deficiency<br /><b>Intervention</b>:    Drug: Sebelipase Alfa<br /><b>Sponsor</b>:    Alexion Pharmaceuticals<br /><b>Terminated</b>   \n",
       "6                                                                               <b>Condition</b>:    Lysosomal Acid Lipase Deficiency<br /><b>Intervention</b>:    Drug: Sebelipase Alfa<br /><b>Sponsor</b>:    Alexion Pharmaceuticals<br /><b>Completed</b>   \n",
       "7                                                       <b>Condition</b>:    Lysosomal Acid Lipase Deficiency<br /><b>Intervention</b>:    Other: There is no intervention in the study<br /><b>Sponsor</b>:    Alexion Pharmaceuticals<br /><b>Terminated</b>   \n",
       "8                                                             <b>Condition</b>:    Lysosomal Acid Lipase Deficiency<br /><b>Interventions</b>:    Drug: Sebelipase Alfa;   Drug: Placebo<br /><b>Sponsor</b>:    Alexion Pharmaceuticals<br /><b>Completed</b>   \n",
       "9                                                                             <b>Condition</b>:    Cholesteryl Ester Storage Disease<br /><b>Intervention</b>:    <br /><b>Sponsors</b>:    Ankara University;   Alexion Pharmaceuticals<br /><b>Completed</b>   \n",
       "\n",
       "                       published           id  \n",
       "0  Mon, 23 May 2011 12:00:00 EDT  NCT01358370  \n",
       "1  Mon, 13 Jun 2011 12:00:00 EDT  NCT01371825  \n",
       "2  Wed, 12 Jun 2019 12:00:00 EDT  NCT03984149  \n",
       "3  Mon, 09 Mar 2015 12:00:00 EDT  NCT02383641  \n",
       "4  Tue, 03 Mar 2015 12:00:00 EST  NCT02376751  \n",
       "5  Fri, 18 Jul 2014 12:00:00 EDT  NCT02193867  \n",
       "6  Mon, 14 Apr 2014 12:00:00 EDT  NCT02112994  \n",
       "7  Thu, 06 Oct 2016 12:00:00 EDT  NCT02926872  \n",
       "8  Fri, 28 Dec 2012 12:00:00 EST  NCT01757184  \n",
       "9  Thu, 26 Feb 2015 12:00:00 EST  NCT02372513  "
      ]
     },
     "execution_count": 7,
     "metadata": {},
     "output_type": "execute_result"
    }
   ],
   "source": [
    "df['title'] = [post.title for post in wolman_d.entries]\n",
    "df['summary_detail'] = [post.summary_detail for post in wolman_d.entries]\n",
    "df['summary'] = [post.summary for post in wolman_d.entries]\n",
    "df['published'] = [post.published for post in wolman_d.entries]\n",
    "df['id'] = [post.id for post in wolman_d.entries]\n",
    "#df['title'] = [post.title for post in fd.entries]\n",
    "#pd.set_option(\"display.max_rows\", None, \"display.max_columns\", None)\n",
    "pd.options.display.max_colwidth = 1000\n",
    "df"
   ]
  },
  {
   "cell_type": "code",
   "execution_count": 8,
   "metadata": {},
   "outputs": [
    {
     "name": "stdout",
     "output_type": "stream",
     "text": [
      "dict_keys(['title', 'title_detail', 'links', 'link', 'summary', 'summary_detail', 'id', 'guidislink', 'published', 'published_parsed'])\n"
     ]
    }
   ],
   "source": [
    "Alzheimer_d = feedparser.parse(\"https://clinicaltrials.gov/ct2/results/rss.xml?rcv_d=14&lup_d=&sel_rss=new14&cond=Alzheimer+Disease&count=10000\")\n",
    "entry_al = Alzheimer_d.entries[1]\n",
    "\n",
    "#print entry.keys()\n",
    "#fd\n",
    "#entry.keys()\n",
    "print(entry_al.keys())\n",
    "#type(entry)\n",
    "\n",
    "df_al = pd.DataFrame()\n"
   ]
  },
  {
   "cell_type": "code",
   "execution_count": 9,
   "metadata": {},
   "outputs": [
    {
     "data": {
      "text/html": [
       "<div>\n",
       "<style scoped>\n",
       "    .dataframe tbody tr th:only-of-type {\n",
       "        vertical-align: middle;\n",
       "    }\n",
       "\n",
       "    .dataframe tbody tr th {\n",
       "        vertical-align: top;\n",
       "    }\n",
       "\n",
       "    .dataframe thead th {\n",
       "        text-align: right;\n",
       "    }\n",
       "</style>\n",
       "<table border=\"1\" class=\"dataframe\">\n",
       "  <thead>\n",
       "    <tr style=\"text-align: right;\">\n",
       "      <th></th>\n",
       "      <th>title</th>\n",
       "      <th>summary_detail</th>\n",
       "      <th>summary</th>\n",
       "      <th>published</th>\n",
       "      <th>id</th>\n",
       "    </tr>\n",
       "  </thead>\n",
       "  <tbody>\n",
       "    <tr>\n",
       "      <th>0</th>\n",
       "      <td>Study on Biomarkers for Early Diagnosis of Alzheimer's Disease</td>\n",
       "      <td>{'type': 'text/html', 'language': None, 'base': 'https://clinicaltrials.gov/ct2/results/rss.xml?rcv_d=14&amp;lup_d=&amp;sel_rss=new14&amp;cond=Alzheimer+Disease&amp;count=10000', 'value': '&lt;b&gt;Condition&lt;/b&gt;:    Alzheimer Disease&lt;br /&gt;&lt;b&gt;Intervention&lt;/b&gt;:    &lt;br /&gt;&lt;b&gt;Sponsor&lt;/b&gt;:    Capital Medical University&lt;br /&gt;&lt;b&gt;Recruiting&lt;/b&gt;'}</td>\n",
       "      <td>&lt;b&gt;Condition&lt;/b&gt;:    Alzheimer Disease&lt;br /&gt;&lt;b&gt;Intervention&lt;/b&gt;:    &lt;br /&gt;&lt;b&gt;Sponsor&lt;/b&gt;:    Capital Medical University&lt;br /&gt;&lt;b&gt;Recruiting&lt;/b&gt;</td>\n",
       "      <td>Mon, 05 Oct 2020 12:00:00 EDT</td>\n",
       "      <td>NCT04575337</td>\n",
       "    </tr>\n",
       "    <tr>\n",
       "      <th>1</th>\n",
       "      <td>Effect of CAFeine on Cognition in Alzheimer's Disease</td>\n",
       "      <td>{'type': 'text/html', 'language': None, 'base': 'https://clinicaltrials.gov/ct2/results/rss.xml?rcv_d=14&amp;lup_d=&amp;sel_rss=new14&amp;cond=Alzheimer+Disease&amp;count=10000', 'value': '&lt;b&gt;Condition&lt;/b&gt;:    Alzheimer Disease&lt;br /&gt;&lt;b&gt;Interventions&lt;/b&gt;:    Drug: Caffeine;   Drug: Placebo&lt;br /&gt;&lt;b&gt;Sponsors&lt;/b&gt;:    University Hospital, Lille;   Groupement Interrégional de Recherche Clinique et d'Innovation;   Laboratory of excellence DISTALZ;   Région Nord-Pas de Calais, France;   Meo coffee&lt;br /&gt;&lt;b&gt;Not yet recruiting&lt;/b&gt;'}</td>\n",
       "      <td>&lt;b&gt;Condition&lt;/b&gt;:    Alzheimer Disease&lt;br /&gt;&lt;b&gt;Interventions&lt;/b&gt;:    Drug: Caffeine;   Drug: Placebo&lt;br /&gt;&lt;b&gt;Sponsors&lt;/b&gt;:    University Hospital, Lille;   Groupement Interrégional de Recherche Clinique et d'Innovation;   Laboratory of excellence DISTALZ;   Région Nord-Pas de Calais, France;   Meo coffee&lt;br /&gt;&lt;b&gt;Not yet recruiting&lt;/b&gt;</td>\n",
       "      <td>Wed, 30 Sep 2020 12:00:00 EDT</td>\n",
       "      <td>NCT04570085</td>\n",
       "    </tr>\n",
       "    <tr>\n",
       "      <th>2</th>\n",
       "      <td>Repetitive Transcranial Magnetic Stimulation With H-coil in Alzheimer's Disease</td>\n",
       "      <td>{'type': 'text/html', 'language': None, 'base': 'https://clinicaltrials.gov/ct2/results/rss.xml?rcv_d=14&amp;lup_d=&amp;sel_rss=new14&amp;cond=Alzheimer+Disease&amp;count=10000', 'value': '&lt;b&gt;Condition&lt;/b&gt;:    Alzheimer Disease&lt;br /&gt;&lt;b&gt;Interventions&lt;/b&gt;:    Device: rTMS with H-coil;   Device: Sham rTMS stimulation with H-coil&lt;br /&gt;&lt;b&gt;Sponsor&lt;/b&gt;:    Giancarlo Comi&lt;br /&gt;&lt;b&gt;Completed&lt;/b&gt;'}</td>\n",
       "      <td>&lt;b&gt;Condition&lt;/b&gt;:    Alzheimer Disease&lt;br /&gt;&lt;b&gt;Interventions&lt;/b&gt;:    Device: rTMS with H-coil;   Device: Sham rTMS stimulation with H-coil&lt;br /&gt;&lt;b&gt;Sponsor&lt;/b&gt;:    Giancarlo Comi&lt;br /&gt;&lt;b&gt;Completed&lt;/b&gt;</td>\n",
       "      <td>Thu, 24 Sep 2020 12:00:00 EDT</td>\n",
       "      <td>NCT04562506</td>\n",
       "    </tr>\n",
       "    <tr>\n",
       "      <th>3</th>\n",
       "      <td>Attenuation of Inflammatory Processes Associated With Alzheimer's Disease After Consumption of Pomace Olive Oil.</td>\n",
       "      <td>{'type': 'text/html', 'language': None, 'base': 'https://clinicaltrials.gov/ct2/results/rss.xml?rcv_d=14&amp;lup_d=&amp;sel_rss=new14&amp;cond=Alzheimer+Disease&amp;count=10000', 'value': '&lt;b&gt;Condition&lt;/b&gt;:    Alzheimer Disease&lt;br /&gt;&lt;b&gt;Intervention&lt;/b&gt;:    Other: Experimental meal&lt;br /&gt;&lt;b&gt;Sponsors&lt;/b&gt;:    National Research Council, Spain;   Hospitales Universitarios Virgen del Rocío&lt;br /&gt;&lt;b&gt;Recruiting&lt;/b&gt;'}</td>\n",
       "      <td>&lt;b&gt;Condition&lt;/b&gt;:    Alzheimer Disease&lt;br /&gt;&lt;b&gt;Intervention&lt;/b&gt;:    Other: Experimental meal&lt;br /&gt;&lt;b&gt;Sponsors&lt;/b&gt;:    National Research Council, Spain;   Hospitales Universitarios Virgen del Rocío&lt;br /&gt;&lt;b&gt;Recruiting&lt;/b&gt;</td>\n",
       "      <td>Wed, 23 Sep 2020 12:00:00 EDT</td>\n",
       "      <td>NCT04559828</td>\n",
       "    </tr>\n",
       "    <tr>\n",
       "      <th>4</th>\n",
       "      <td>Effects of Auditory Brain Stimulation by \"Pink Noise\" on Memory Capacities in Alzheimer's Disease: Proof of Concept Study</td>\n",
       "      <td>{'type': 'text/html', 'language': None, 'base': 'https://clinicaltrials.gov/ct2/results/rss.xml?rcv_d=14&amp;lup_d=&amp;sel_rss=new14&amp;cond=Alzheimer+Disease&amp;count=10000', 'value': '&lt;b&gt;Condition&lt;/b&gt;:    Alzheimer's Disease (AD)&lt;br /&gt;&lt;b&gt;Intervention&lt;/b&gt;:    Device: Dreem headband&lt;br /&gt;&lt;b&gt;Sponsor&lt;/b&gt;:    University Hospital, Tours&lt;br /&gt;&lt;b&gt;Not yet recruiting&lt;/b&gt;'}</td>\n",
       "      <td>&lt;b&gt;Condition&lt;/b&gt;:    Alzheimer's Disease (AD)&lt;br /&gt;&lt;b&gt;Intervention&lt;/b&gt;:    Device: Dreem headband&lt;br /&gt;&lt;b&gt;Sponsor&lt;/b&gt;:    University Hospital, Tours&lt;br /&gt;&lt;b&gt;Not yet recruiting&lt;/b&gt;</td>\n",
       "      <td>Wed, 30 Sep 2020 12:00:00 EDT</td>\n",
       "      <td>NCT04570761</td>\n",
       "    </tr>\n",
       "    <tr>\n",
       "      <th>5</th>\n",
       "      <td>Evaluation Comparing Two Tau PET Radiotracers, [18F]PI-2620 and [18F]GTP1, in Brains of Participants With Prodromal or Mild Alzheimer's Disease</td>\n",
       "      <td>{'type': 'text/html', 'language': None, 'base': 'https://clinicaltrials.gov/ct2/results/rss.xml?rcv_d=14&amp;lup_d=&amp;sel_rss=new14&amp;cond=Alzheimer+Disease&amp;count=10000', 'value': '&lt;b&gt;Condition&lt;/b&gt;:    Alzheimer Disease (AD)&lt;br /&gt;&lt;b&gt;Interventions&lt;/b&gt;:    Drug: [18F]GTP1;   Drug: [18F]PI-2620&lt;br /&gt;&lt;b&gt;Sponsor&lt;/b&gt;:    Genentech, Inc.&lt;br /&gt;&lt;b&gt;Not yet recruiting&lt;/b&gt;'}</td>\n",
       "      <td>&lt;b&gt;Condition&lt;/b&gt;:    Alzheimer Disease (AD)&lt;br /&gt;&lt;b&gt;Interventions&lt;/b&gt;:    Drug: [18F]GTP1;   Drug: [18F]PI-2620&lt;br /&gt;&lt;b&gt;Sponsor&lt;/b&gt;:    Genentech, Inc.&lt;br /&gt;&lt;b&gt;Not yet recruiting&lt;/b&gt;</td>\n",
       "      <td>Mon, 28 Sep 2020 12:00:00 EDT</td>\n",
       "      <td>NCT04566003</td>\n",
       "    </tr>\n",
       "    <tr>\n",
       "      <th>6</th>\n",
       "      <td>Randomized I/II Phase Study of ALZT-OP1 Combination Therapy in Alzheimer's Disease and Normal Healthy Volunteers</td>\n",
       "      <td>{'type': 'text/html', 'language': None, 'base': 'https://clinicaltrials.gov/ct2/results/rss.xml?rcv_d=14&amp;lup_d=&amp;sel_rss=new14&amp;cond=Alzheimer+Disease&amp;count=10000', 'value': '&lt;b&gt;Conditions&lt;/b&gt;:    Healthy Volunteers;   Alzheimer Disease&lt;br /&gt;&lt;b&gt;Intervention&lt;/b&gt;:    Drug: ALZT-OP1 (cromolyn and ibuprofen) ALZT-OP1a (cromolyn) and ALZT-OP1b (ibuprofen)&lt;br /&gt;&lt;b&gt;Sponsor&lt;/b&gt;:    AZTherapies, Inc.&lt;br /&gt;&lt;b&gt;Recruiting&lt;/b&gt;'}</td>\n",
       "      <td>&lt;b&gt;Conditions&lt;/b&gt;:    Healthy Volunteers;   Alzheimer Disease&lt;br /&gt;&lt;b&gt;Intervention&lt;/b&gt;:    Drug: ALZT-OP1 (cromolyn and ibuprofen) ALZT-OP1a (cromolyn) and ALZT-OP1b (ibuprofen)&lt;br /&gt;&lt;b&gt;Sponsor&lt;/b&gt;:    AZTherapies, Inc.&lt;br /&gt;&lt;b&gt;Recruiting&lt;/b&gt;</td>\n",
       "      <td>Wed, 30 Sep 2020 12:00:00 EDT</td>\n",
       "      <td>NCT04570644</td>\n",
       "    </tr>\n",
       "    <tr>\n",
       "      <th>7</th>\n",
       "      <td>A Study of Comparing Rates of Dementia and Alzheimer's Disease in Participants Initiating Methotrexate Versus Those Initiating Anti-tumor Necrosis Factor (TNF)-Alpha Therapy</td>\n",
       "      <td>{'type': 'text/html', 'language': None, 'base': 'https://clinicaltrials.gov/ct2/results/rss.xml?rcv_d=14&amp;lup_d=&amp;sel_rss=new14&amp;cond=Alzheimer+Disease&amp;count=10000', 'value': '&lt;b&gt;Conditions&lt;/b&gt;:    Dementia;   Alzheimer Disease&lt;br /&gt;&lt;b&gt;Interventions&lt;/b&gt;:    Drug: Methotrexate;   Drug: Anti-TNF&lt;br /&gt;&lt;b&gt;Sponsor&lt;/b&gt;:    Janssen Research &amp; Development, LLC&lt;br /&gt;&lt;b&gt;Not yet recruiting&lt;/b&gt;'}</td>\n",
       "      <td>&lt;b&gt;Conditions&lt;/b&gt;:    Dementia;   Alzheimer Disease&lt;br /&gt;&lt;b&gt;Interventions&lt;/b&gt;:    Drug: Methotrexate;   Drug: Anti-TNF&lt;br /&gt;&lt;b&gt;Sponsor&lt;/b&gt;:    Janssen Research &amp; Development, LLC&lt;br /&gt;&lt;b&gt;Not yet recruiting&lt;/b&gt;</td>\n",
       "      <td>Thu, 01 Oct 2020 12:00:00 EDT</td>\n",
       "      <td>NCT04571697</td>\n",
       "    </tr>\n",
       "    <tr>\n",
       "      <th>8</th>\n",
       "      <td>Feasibility - Infinitome</td>\n",
       "      <td>{'type': 'text/html', 'language': None, 'base': 'https://clinicaltrials.gov/ct2/results/rss.xml?rcv_d=14&amp;lup_d=&amp;sel_rss=new14&amp;cond=Alzheimer+Disease&amp;count=10000', 'value': '&lt;b&gt;Condition&lt;/b&gt;:    Alzheimer Disease&lt;br /&gt;&lt;b&gt;Intervention&lt;/b&gt;:    Procedure: Infinitome&lt;br /&gt;&lt;b&gt;Sponsor&lt;/b&gt;:    HealthPartners Institute&lt;br /&gt;&lt;b&gt;Enrolling by invitation&lt;/b&gt;'}</td>\n",
       "      <td>&lt;b&gt;Condition&lt;/b&gt;:    Alzheimer Disease&lt;br /&gt;&lt;b&gt;Intervention&lt;/b&gt;:    Procedure: Infinitome&lt;br /&gt;&lt;b&gt;Sponsor&lt;/b&gt;:    HealthPartners Institute&lt;br /&gt;&lt;b&gt;Enrolling by invitation&lt;/b&gt;</td>\n",
       "      <td>Thu, 24 Sep 2020 12:00:00 EDT</td>\n",
       "      <td>NCT04563767</td>\n",
       "    </tr>\n",
       "    <tr>\n",
       "      <th>9</th>\n",
       "      <td>Study on Safety, Feasibility and Neural Activation of Non-Invasive Light Therapy System</td>\n",
       "      <td>{'type': 'text/html', 'language': None, 'base': 'https://clinicaltrials.gov/ct2/results/rss.xml?rcv_d=14&amp;lup_d=&amp;sel_rss=new14&amp;cond=Alzheimer+Disease&amp;count=10000', 'value': '&lt;b&gt;Condition&lt;/b&gt;:    Alzheimer Disease&lt;br /&gt;&lt;b&gt;Interventions&lt;/b&gt;:    Other: Light Therapy System (LTS): Active setting;   Other: Light Therapy System (LTS): Sham setting&lt;br /&gt;&lt;b&gt;Sponsors&lt;/b&gt;:    Zealand University Hospital;   Technical University of Denmark;   University of Copenhagen;   OptoCeutics&lt;br /&gt;&lt;b&gt;Not yet recruiting&lt;/b&gt;'}</td>\n",
       "      <td>&lt;b&gt;Condition&lt;/b&gt;:    Alzheimer Disease&lt;br /&gt;&lt;b&gt;Interventions&lt;/b&gt;:    Other: Light Therapy System (LTS): Active setting;   Other: Light Therapy System (LTS): Sham setting&lt;br /&gt;&lt;b&gt;Sponsors&lt;/b&gt;:    Zealand University Hospital;   Technical University of Denmark;   University of Copenhagen;   OptoCeutics&lt;br /&gt;&lt;b&gt;Not yet recruiting&lt;/b&gt;</td>\n",
       "      <td>Mon, 05 Oct 2020 12:00:00 EDT</td>\n",
       "      <td>NCT04574921</td>\n",
       "    </tr>\n",
       "    <tr>\n",
       "      <th>10</th>\n",
       "      <td>Environmental Design for Behavioral Regulation in People With Dementia</td>\n",
       "      <td>{'type': 'text/html', 'language': None, 'base': 'https://clinicaltrials.gov/ct2/results/rss.xml?rcv_d=14&amp;lup_d=&amp;sel_rss=new14&amp;cond=Alzheimer+Disease&amp;count=10000', 'value': '&lt;b&gt;Condition&lt;/b&gt;:    Alzheimer Disease&lt;br /&gt;&lt;b&gt;Interventions&lt;/b&gt;:    Behavioral: Standard Environmental Design;   Behavioral: Individual Environmental Design;   Behavioral: Placebo&lt;br /&gt;&lt;b&gt;Sponsor&lt;/b&gt;:    Elizabeth K Rhodus&lt;br /&gt;&lt;b&gt;Not yet recruiting&lt;/b&gt;'}</td>\n",
       "      <td>&lt;b&gt;Condition&lt;/b&gt;:    Alzheimer Disease&lt;br /&gt;&lt;b&gt;Interventions&lt;/b&gt;:    Behavioral: Standard Environmental Design;   Behavioral: Individual Environmental Design;   Behavioral: Placebo&lt;br /&gt;&lt;b&gt;Sponsor&lt;/b&gt;:    Elizabeth K Rhodus&lt;br /&gt;&lt;b&gt;Not yet recruiting&lt;/b&gt;</td>\n",
       "      <td>Mon, 21 Sep 2020 12:00:00 EDT</td>\n",
       "      <td>NCT04555616</td>\n",
       "    </tr>\n",
       "    <tr>\n",
       "      <th>11</th>\n",
       "      <td>The Effects of Intermittent Theta Burst Stimulation in MCI and Early AD</td>\n",
       "      <td>{'type': 'text/html', 'language': None, 'base': 'https://clinicaltrials.gov/ct2/results/rss.xml?rcv_d=14&amp;lup_d=&amp;sel_rss=new14&amp;cond=Alzheimer+Disease&amp;count=10000', 'value': '&lt;b&gt;Conditions&lt;/b&gt;:    Mild Cognitive Impairment;   Alzheimer Disease;   Cognitive Decline&lt;br /&gt;&lt;b&gt;Intervention&lt;/b&gt;:    Device: intermittent theta burst stimulation&lt;br /&gt;&lt;b&gt;Sponsor&lt;/b&gt;:    Taipei Medical University Shuang Ho Hospital&lt;br /&gt;&lt;b&gt;Not yet recruiting&lt;/b&gt;'}</td>\n",
       "      <td>&lt;b&gt;Conditions&lt;/b&gt;:    Mild Cognitive Impairment;   Alzheimer Disease;   Cognitive Decline&lt;br /&gt;&lt;b&gt;Intervention&lt;/b&gt;:    Device: intermittent theta burst stimulation&lt;br /&gt;&lt;b&gt;Sponsor&lt;/b&gt;:    Taipei Medical University Shuang Ho Hospital&lt;br /&gt;&lt;b&gt;Not yet recruiting&lt;/b&gt;</td>\n",
       "      <td>Mon, 21 Sep 2020 12:00:00 EDT</td>\n",
       "      <td>NCT04555941</td>\n",
       "    </tr>\n",
       "    <tr>\n",
       "      <th>12</th>\n",
       "      <td>Impact of the Eurékoi Serious Game on Family Caregivers of Patients With a Major Neurocognitive Disorder</td>\n",
       "      <td>{'type': 'text/html', 'language': None, 'base': 'https://clinicaltrials.gov/ct2/results/rss.xml?rcv_d=14&amp;lup_d=&amp;sel_rss=new14&amp;cond=Alzheimer+Disease&amp;count=10000', 'value': '&lt;b&gt;Condition&lt;/b&gt;:    Family Caregiver of Patient With Alzheimer Disease&lt;br /&gt;&lt;b&gt;Intervention&lt;/b&gt;:    Behavioral: Serious game Eurekoi intervention&lt;br /&gt;&lt;b&gt;Sponsor&lt;/b&gt;:    Centre Hospitalier Universitaire de Nice&lt;br /&gt;&lt;b&gt;Not yet recruiting&lt;/b&gt;'}</td>\n",
       "      <td>&lt;b&gt;Condition&lt;/b&gt;:    Family Caregiver of Patient With Alzheimer Disease&lt;br /&gt;&lt;b&gt;Intervention&lt;/b&gt;:    Behavioral: Serious game Eurekoi intervention&lt;br /&gt;&lt;b&gt;Sponsor&lt;/b&gt;:    Centre Hospitalier Universitaire de Nice&lt;br /&gt;&lt;b&gt;Not yet recruiting&lt;/b&gt;</td>\n",
       "      <td>Fri, 02 Oct 2020 12:00:00 EDT</td>\n",
       "      <td>NCT04573985</td>\n",
       "    </tr>\n",
       "    <tr>\n",
       "      <th>13</th>\n",
       "      <td>Implementation of the Care Ecosystem Training Model for Individuals With Dementia in a High-risk, Integrated Care Management</td>\n",
       "      <td>{'type': 'text/html', 'language': None, 'base': 'https://clinicaltrials.gov/ct2/results/rss.xml?rcv_d=14&amp;lup_d=&amp;sel_rss=new14&amp;cond=Alzheimer+Disease&amp;count=10000', 'value': '&lt;b&gt;Conditions&lt;/b&gt;:    Dementia;   Alzheimer Disease&lt;br /&gt;&lt;b&gt;Intervention&lt;/b&gt;:    Behavioral: Care Ecosystem&lt;br /&gt;&lt;b&gt;Sponsor&lt;/b&gt;:    Mclean Hospital&lt;br /&gt;&lt;b&gt;Not yet recruiting&lt;/b&gt;'}</td>\n",
       "      <td>&lt;b&gt;Conditions&lt;/b&gt;:    Dementia;   Alzheimer Disease&lt;br /&gt;&lt;b&gt;Intervention&lt;/b&gt;:    Behavioral: Care Ecosystem&lt;br /&gt;&lt;b&gt;Sponsor&lt;/b&gt;:    Mclean Hospital&lt;br /&gt;&lt;b&gt;Not yet recruiting&lt;/b&gt;</td>\n",
       "      <td>Mon, 21 Sep 2020 12:00:00 EDT</td>\n",
       "      <td>NCT04556097</td>\n",
       "    </tr>\n",
       "    <tr>\n",
       "      <th>14</th>\n",
       "      <td>Digital Interventions in Neuro-Rehabilitation: Gotcha!</td>\n",
       "      <td>{'type': 'text/html', 'language': None, 'base': 'https://clinicaltrials.gov/ct2/results/rss.xml?rcv_d=14&amp;lup_d=&amp;sel_rss=new14&amp;cond=Alzheimer+Disease&amp;count=10000', 'value': '&lt;b&gt;Conditions&lt;/b&gt;:    Dementia;   Alzheimer Disease;   Anomia&lt;br /&gt;&lt;b&gt;Interventions&lt;/b&gt;:    Other: Gotcha! Therapy application;   Other: Gotcha Therapy application: Maintenance&lt;br /&gt;&lt;b&gt;Sponsor&lt;/b&gt;:    University College, London&lt;br /&gt;&lt;b&gt;Recruiting&lt;/b&gt;'}</td>\n",
       "      <td>&lt;b&gt;Conditions&lt;/b&gt;:    Dementia;   Alzheimer Disease;   Anomia&lt;br /&gt;&lt;b&gt;Interventions&lt;/b&gt;:    Other: Gotcha! Therapy application;   Other: Gotcha Therapy application: Maintenance&lt;br /&gt;&lt;b&gt;Sponsor&lt;/b&gt;:    University College, London&lt;br /&gt;&lt;b&gt;Recruiting&lt;/b&gt;</td>\n",
       "      <td>Wed, 30 Sep 2020 12:00:00 EDT</td>\n",
       "      <td>NCT04570215</td>\n",
       "    </tr>\n",
       "    <tr>\n",
       "      <th>15</th>\n",
       "      <td>Integration of Health Information Technology and Promotion of Personhood in Family-Centered Dementia Care</td>\n",
       "      <td>{'type': 'text/html', 'language': None, 'base': 'https://clinicaltrials.gov/ct2/results/rss.xml?rcv_d=14&amp;lup_d=&amp;sel_rss=new14&amp;cond=Alzheimer+Disease&amp;count=10000', 'value': '&lt;b&gt;Conditions&lt;/b&gt;:    Neurocognitive Disorders;   Alzheimer Disease;   Caregiver&lt;br /&gt;&lt;b&gt;Intervention&lt;/b&gt;:    Other: CareHeroes&lt;br /&gt;&lt;b&gt;Sponsors&lt;/b&gt;:    Florida International University;   National Institute on Aging (NIA);   University of Alabama, Tuscaloosa&lt;br /&gt;&lt;b&gt;Not yet recruiting&lt;/b&gt;'}</td>\n",
       "      <td>&lt;b&gt;Conditions&lt;/b&gt;:    Neurocognitive Disorders;   Alzheimer Disease;   Caregiver&lt;br /&gt;&lt;b&gt;Intervention&lt;/b&gt;:    Other: CareHeroes&lt;br /&gt;&lt;b&gt;Sponsors&lt;/b&gt;:    Florida International University;   National Institute on Aging (NIA);   University of Alabama, Tuscaloosa&lt;br /&gt;&lt;b&gt;Not yet recruiting&lt;/b&gt;</td>\n",
       "      <td>Thu, 01 Oct 2020 12:00:00 EDT</td>\n",
       "      <td>NCT04571502</td>\n",
       "    </tr>\n",
       "    <tr>\n",
       "      <th>16</th>\n",
       "      <td>Automated Retinal Image Analysis System (EyeQuant) for Computation of Vascular Biomarkers</td>\n",
       "      <td>{'type': 'text/html', 'language': None, 'base': 'https://clinicaltrials.gov/ct2/results/rss.xml?rcv_d=14&amp;lup_d=&amp;sel_rss=new14&amp;cond=Alzheimer+Disease&amp;count=10000', 'value': '&lt;b&gt;Conditions&lt;/b&gt;:    Mild Cognitive Impairment;   Alzheimer Disease;   Vascular Dementia&lt;br /&gt;&lt;b&gt;Intervention&lt;/b&gt;:    Diagnostic Test: Retinal fundus photography&lt;br /&gt;&lt;b&gt;Sponsors&lt;/b&gt;:    Mayo Clinic;   Eyenuk, Inc.;   Malavika Bhaskaranand PhD;   Kaushal Solanki&lt;br /&gt;&lt;b&gt;Recruiting&lt;/b&gt;'}</td>\n",
       "      <td>&lt;b&gt;Conditions&lt;/b&gt;:    Mild Cognitive Impairment;   Alzheimer Disease;   Vascular Dementia&lt;br /&gt;&lt;b&gt;Intervention&lt;/b&gt;:    Diagnostic Test: Retinal fundus photography&lt;br /&gt;&lt;b&gt;Sponsors&lt;/b&gt;:    Mayo Clinic;   Eyenuk, Inc.;   Malavika Bhaskaranand PhD;   Kaushal Solanki&lt;br /&gt;&lt;b&gt;Recruiting&lt;/b&gt;</td>\n",
       "      <td>Mon, 28 Sep 2020 12:00:00 EDT</td>\n",
       "      <td>NCT04567745</td>\n",
       "    </tr>\n",
       "    <tr>\n",
       "      <th>17</th>\n",
       "      <td>Exploratory Evaluation of [11C]MPC6827</td>\n",
       "      <td>{'type': 'text/html', 'language': None, 'base': 'https://clinicaltrials.gov/ct2/results/rss.xml?rcv_d=14&amp;lup_d=&amp;sel_rss=new14&amp;cond=Alzheimer+Disease&amp;count=10000', 'value': '&lt;b&gt;Conditions&lt;/b&gt;:    Neurodegenerative Diseases;   Alzheimer Disease;   Amyotrophic Lateral Sclerosis&lt;br /&gt;&lt;b&gt;Intervention&lt;/b&gt;:    Drug: [11C]MPC6827&lt;br /&gt;&lt;b&gt;Sponsor&lt;/b&gt;:    Columbia University&lt;br /&gt;&lt;b&gt;Recruiting&lt;/b&gt;'}</td>\n",
       "      <td>&lt;b&gt;Conditions&lt;/b&gt;:    Neurodegenerative Diseases;   Alzheimer Disease;   Amyotrophic Lateral Sclerosis&lt;br /&gt;&lt;b&gt;Intervention&lt;/b&gt;:    Drug: [11C]MPC6827&lt;br /&gt;&lt;b&gt;Sponsor&lt;/b&gt;:    Columbia University&lt;br /&gt;&lt;b&gt;Recruiting&lt;/b&gt;</td>\n",
       "      <td>Mon, 05 Oct 2020 12:00:00 EDT</td>\n",
       "      <td>NCT04575727</td>\n",
       "    </tr>\n",
       "    <tr>\n",
       "      <th>18</th>\n",
       "      <td>Comparisons of gaIt aNalyses pERformance Between the Gaitrite walkwaYs</td>\n",
       "      <td>{'type': 'text/html', 'language': None, 'base': 'https://clinicaltrials.gov/ct2/results/rss.xml?rcv_d=14&amp;lup_d=&amp;sel_rss=new14&amp;cond=Alzheimer+Disease&amp;count=10000', 'value': '&lt;b&gt;Conditions&lt;/b&gt;:    Gait Apraxia;   Alzheimer Disease;   Impaired Cognition&lt;br /&gt;&lt;b&gt;Intervention&lt;/b&gt;:    &lt;br /&gt;&lt;b&gt;Sponsor&lt;/b&gt;:    University Hospital, Angers&lt;br /&gt;&lt;b&gt;Completed&lt;/b&gt;'}</td>\n",
       "      <td>&lt;b&gt;Conditions&lt;/b&gt;:    Gait Apraxia;   Alzheimer Disease;   Impaired Cognition&lt;br /&gt;&lt;b&gt;Intervention&lt;/b&gt;:    &lt;br /&gt;&lt;b&gt;Sponsor&lt;/b&gt;:    University Hospital, Angers&lt;br /&gt;&lt;b&gt;Completed&lt;/b&gt;</td>\n",
       "      <td>Mon, 21 Sep 2020 12:00:00 EDT</td>\n",
       "      <td>NCT04557592</td>\n",
       "    </tr>\n",
       "    <tr>\n",
       "      <th>19</th>\n",
       "      <td>Reducing Dementia Risk With Digital Health Coaching</td>\n",
       "      <td>{'type': 'text/html', 'language': None, 'base': 'https://clinicaltrials.gov/ct2/results/rss.xml?rcv_d=14&amp;lup_d=&amp;sel_rss=new14&amp;cond=Alzheimer+Disease&amp;count=10000', 'value': '&lt;b&gt;Conditions&lt;/b&gt;:    Alzheimer Disease;   Dementia;   Mild Cognitive Impairment;   Cognitive Decline&lt;br /&gt;&lt;b&gt;Interventions&lt;/b&gt;:    Behavioral: MindMate + Health Coaching;   Other: Health Education&lt;br /&gt;&lt;b&gt;Sponsors&lt;/b&gt;:    Neurotrack Technologies, Inc.;   National Institute on Aging (NIA);   University of Arkansas&lt;br /&gt;&lt;b&gt;Not yet recruiting&lt;/b&gt;'}</td>\n",
       "      <td>&lt;b&gt;Conditions&lt;/b&gt;:    Alzheimer Disease;   Dementia;   Mild Cognitive Impairment;   Cognitive Decline&lt;br /&gt;&lt;b&gt;Interventions&lt;/b&gt;:    Behavioral: MindMate + Health Coaching;   Other: Health Education&lt;br /&gt;&lt;b&gt;Sponsors&lt;/b&gt;:    Neurotrack Technologies, Inc.;   National Institute on Aging (NIA);   University of Arkansas&lt;br /&gt;&lt;b&gt;Not yet recruiting&lt;/b&gt;</td>\n",
       "      <td>Wed, 23 Sep 2020 12:00:00 EDT</td>\n",
       "      <td>NCT04559789</td>\n",
       "    </tr>\n",
       "    <tr>\n",
       "      <th>20</th>\n",
       "      <td>Mindfulness to Reduce Loneliness in Older Caregivers</td>\n",
       "      <td>{'type': 'text/html', 'language': None, 'base': 'https://clinicaltrials.gov/ct2/results/rss.xml?rcv_d=14&amp;lup_d=&amp;sel_rss=new14&amp;cond=Alzheimer+Disease&amp;count=10000', 'value': '&lt;b&gt;Conditions&lt;/b&gt;:    Social Isolation;   Loneliness&lt;br /&gt;&lt;b&gt;Interventions&lt;/b&gt;:    Behavioral: Mindfulness;   Behavioral: Breathing&lt;br /&gt;&lt;b&gt;Sponsors&lt;/b&gt;:    University of Rochester;   National Institute on Aging (NIA)&lt;br /&gt;&lt;b&gt;Not yet recruiting&lt;/b&gt;'}</td>\n",
       "      <td>&lt;b&gt;Conditions&lt;/b&gt;:    Social Isolation;   Loneliness&lt;br /&gt;&lt;b&gt;Interventions&lt;/b&gt;:    Behavioral: Mindfulness;   Behavioral: Breathing&lt;br /&gt;&lt;b&gt;Sponsors&lt;/b&gt;:    University of Rochester;   National Institute on Aging (NIA)&lt;br /&gt;&lt;b&gt;Not yet recruiting&lt;/b&gt;</td>\n",
       "      <td>Wed, 23 Sep 2020 12:00:00 EDT</td>\n",
       "      <td>NCT04560088</td>\n",
       "    </tr>\n",
       "    <tr>\n",
       "      <th>21</th>\n",
       "      <td>Advanced Cognitive Stimulation Therapy Hong Kong (ACST-HK)</td>\n",
       "      <td>{'type': 'text/html', 'language': None, 'base': 'https://clinicaltrials.gov/ct2/results/rss.xml?rcv_d=14&amp;lup_d=&amp;sel_rss=new14&amp;cond=Alzheimer+Disease&amp;count=10000', 'value': '&lt;b&gt;Conditions&lt;/b&gt;:    Dementia;   Dementia, Vascular;   Dementia, Mixed;   Dementia With Lewy Bodies;   Dementia Frontal;   Dementia Severe;   Dementia Moderate;   Dementia of Alzheimer Type&lt;br /&gt;&lt;b&gt;Intervention&lt;/b&gt;:    Other: Advanced Cognitive Stimulation Therapy Hong Kong&lt;br /&gt;&lt;b&gt;Sponsors&lt;/b&gt;:    University College, London;   The University of Hong Kong&lt;br /&gt;&lt;b&gt;Not yet recruiting&lt;/b&gt;'}</td>\n",
       "      <td>&lt;b&gt;Conditions&lt;/b&gt;:    Dementia;   Dementia, Vascular;   Dementia, Mixed;   Dementia With Lewy Bodies;   Dementia Frontal;   Dementia Severe;   Dementia Moderate;   Dementia of Alzheimer Type&lt;br /&gt;&lt;b&gt;Intervention&lt;/b&gt;:    Other: Advanced Cognitive Stimulation Therapy Hong Kong&lt;br /&gt;&lt;b&gt;Sponsors&lt;/b&gt;:    University College, London;   The University of Hong Kong&lt;br /&gt;&lt;b&gt;Not yet recruiting&lt;/b&gt;</td>\n",
       "      <td>Mon, 21 Sep 2020 12:00:00 EDT</td>\n",
       "      <td>NCT04555629</td>\n",
       "    </tr>\n",
       "    <tr>\n",
       "      <th>22</th>\n",
       "      <td>PsyDoMa : Non-drug Approaches at Home for Alzheimer's Patients With Psycho-behavioural Disorders</td>\n",
       "      <td>{'type': 'text/html', 'language': None, 'base': 'https://clinicaltrials.gov/ct2/results/rss.xml?rcv_d=14&amp;lup_d=&amp;sel_rss=new14&amp;cond=Alzheimer+Disease&amp;count=10000', 'value': '&lt;b&gt;Condition&lt;/b&gt;:    Behavioral Disorder&lt;br /&gt;&lt;b&gt;Intervention&lt;/b&gt;:    Procedure: Home visit&lt;br /&gt;&lt;b&gt;Sponsors&lt;/b&gt;:    Centre Hospitalier Universitaire de Nice;   Fondation Médéric Alzheimer&lt;br /&gt;&lt;b&gt;Not yet recruiting&lt;/b&gt;'}</td>\n",
       "      <td>&lt;b&gt;Condition&lt;/b&gt;:    Behavioral Disorder&lt;br /&gt;&lt;b&gt;Intervention&lt;/b&gt;:    Procedure: Home visit&lt;br /&gt;&lt;b&gt;Sponsors&lt;/b&gt;:    Centre Hospitalier Universitaire de Nice;   Fondation Médéric Alzheimer&lt;br /&gt;&lt;b&gt;Not yet recruiting&lt;/b&gt;</td>\n",
       "      <td>Fri, 02 Oct 2020 12:00:00 EDT</td>\n",
       "      <td>NCT04573829</td>\n",
       "    </tr>\n",
       "  </tbody>\n",
       "</table>\n",
       "</div>"
      ],
      "text/plain": [
       "                                                                                                                                                                            title  \\\n",
       "0                                                                                                                  Study on Biomarkers for Early Diagnosis of Alzheimer's Disease   \n",
       "1                                                                                                                           Effect of CAFeine on Cognition in Alzheimer's Disease   \n",
       "2                                                                                                 Repetitive Transcranial Magnetic Stimulation With H-coil in Alzheimer's Disease   \n",
       "3                                                                Attenuation of Inflammatory Processes Associated With Alzheimer's Disease After Consumption of Pomace Olive Oil.   \n",
       "4                                                       Effects of Auditory Brain Stimulation by \"Pink Noise\" on Memory Capacities in Alzheimer's Disease: Proof of Concept Study   \n",
       "5                                 Evaluation Comparing Two Tau PET Radiotracers, [18F]PI-2620 and [18F]GTP1, in Brains of Participants With Prodromal or Mild Alzheimer's Disease   \n",
       "6                                                                Randomized I/II Phase Study of ALZT-OP1 Combination Therapy in Alzheimer's Disease and Normal Healthy Volunteers   \n",
       "7   A Study of Comparing Rates of Dementia and Alzheimer's Disease in Participants Initiating Methotrexate Versus Those Initiating Anti-tumor Necrosis Factor (TNF)-Alpha Therapy   \n",
       "8                                                                                                                                                        Feasibility - Infinitome   \n",
       "9                                                                                         Study on Safety, Feasibility and Neural Activation of Non-Invasive Light Therapy System   \n",
       "10                                                                                                         Environmental Design for Behavioral Regulation in People With Dementia   \n",
       "11                                                                                                        The Effects of Intermittent Theta Burst Stimulation in MCI and Early AD   \n",
       "12                                                                       Impact of the Eurékoi Serious Game on Family Caregivers of Patients With a Major Neurocognitive Disorder   \n",
       "13                                                   Implementation of the Care Ecosystem Training Model for Individuals With Dementia in a High-risk, Integrated Care Management   \n",
       "14                                                                                                                         Digital Interventions in Neuro-Rehabilitation: Gotcha!   \n",
       "15                                                                      Integration of Health Information Technology and Promotion of Personhood in Family-Centered Dementia Care   \n",
       "16                                                                                      Automated Retinal Image Analysis System (EyeQuant) for Computation of Vascular Biomarkers   \n",
       "17                                                                                                                                         Exploratory Evaluation of [11C]MPC6827   \n",
       "18                                                                                                         Comparisons of gaIt aNalyses pERformance Between the Gaitrite walkwaYs   \n",
       "19                                                                                                                            Reducing Dementia Risk With Digital Health Coaching   \n",
       "20                                                                                                                           Mindfulness to Reduce Loneliness in Older Caregivers   \n",
       "21                                                                                                                     Advanced Cognitive Stimulation Therapy Hong Kong (ACST-HK)   \n",
       "22                                                                               PsyDoMa : Non-drug Approaches at Home for Alzheimer's Patients With Psycho-behavioural Disorders   \n",
       "\n",
       "                                                                                                                                                                                                                                                                                                                                                                                                                                                                                                                                                                          summary_detail  \\\n",
       "0                                                                                                                                                                                                                                                          {'type': 'text/html', 'language': None, 'base': 'https://clinicaltrials.gov/ct2/results/rss.xml?rcv_d=14&lup_d=&sel_rss=new14&cond=Alzheimer+Disease&count=10000', 'value': '<b>Condition</b>:    Alzheimer Disease<br /><b>Intervention</b>:    <br /><b>Sponsor</b>:    Capital Medical University<br /><b>Recruiting</b>'}   \n",
       "1                                                        {'type': 'text/html', 'language': None, 'base': 'https://clinicaltrials.gov/ct2/results/rss.xml?rcv_d=14&lup_d=&sel_rss=new14&cond=Alzheimer+Disease&count=10000', 'value': '<b>Condition</b>:    Alzheimer Disease<br /><b>Interventions</b>:    Drug: Caffeine;   Drug: Placebo<br /><b>Sponsors</b>:    University Hospital, Lille;   Groupement Interrégional de Recherche Clinique et d'Innovation;   Laboratory of excellence DISTALZ;   Région Nord-Pas de Calais, France;   Meo coffee<br /><b>Not yet recruiting</b>'}   \n",
       "2                                                                                                                                                                                                 {'type': 'text/html', 'language': None, 'base': 'https://clinicaltrials.gov/ct2/results/rss.xml?rcv_d=14&lup_d=&sel_rss=new14&cond=Alzheimer+Disease&count=10000', 'value': '<b>Condition</b>:    Alzheimer Disease<br /><b>Interventions</b>:    Device: rTMS with H-coil;   Device: Sham rTMS stimulation with H-coil<br /><b>Sponsor</b>:    Giancarlo Comi<br /><b>Completed</b>'}   \n",
       "3                                                                                                                                                                             {'type': 'text/html', 'language': None, 'base': 'https://clinicaltrials.gov/ct2/results/rss.xml?rcv_d=14&lup_d=&sel_rss=new14&cond=Alzheimer+Disease&count=10000', 'value': '<b>Condition</b>:    Alzheimer Disease<br /><b>Intervention</b>:    Other: Experimental meal<br /><b>Sponsors</b>:    National Research Council, Spain;   Hospitales Universitarios Virgen del Rocío<br /><b>Recruiting</b>'}   \n",
       "4                                                                                                                                                                                                                     {'type': 'text/html', 'language': None, 'base': 'https://clinicaltrials.gov/ct2/results/rss.xml?rcv_d=14&lup_d=&sel_rss=new14&cond=Alzheimer+Disease&count=10000', 'value': '<b>Condition</b>:    Alzheimer's Disease (AD)<br /><b>Intervention</b>:    Device: Dreem headband<br /><b>Sponsor</b>:    University Hospital, Tours<br /><b>Not yet recruiting</b>'}   \n",
       "5                                                                                                                                                                                                                  {'type': 'text/html', 'language': None, 'base': 'https://clinicaltrials.gov/ct2/results/rss.xml?rcv_d=14&lup_d=&sel_rss=new14&cond=Alzheimer+Disease&count=10000', 'value': '<b>Condition</b>:    Alzheimer Disease (AD)<br /><b>Interventions</b>:    Drug: [18F]GTP1;   Drug: [18F]PI-2620<br /><b>Sponsor</b>:    Genentech, Inc.<br /><b>Not yet recruiting</b>'}   \n",
       "6                                                                                                                                                      {'type': 'text/html', 'language': None, 'base': 'https://clinicaltrials.gov/ct2/results/rss.xml?rcv_d=14&lup_d=&sel_rss=new14&cond=Alzheimer+Disease&count=10000', 'value': '<b>Conditions</b>:    Healthy Volunteers;   Alzheimer Disease<br /><b>Intervention</b>:    Drug: ALZT-OP1 (cromolyn and ibuprofen) ALZT-OP1a (cromolyn) and ALZT-OP1b (ibuprofen)<br /><b>Sponsor</b>:    AZTherapies, Inc.<br /><b>Recruiting</b>'}   \n",
       "7                                                                                                                                                                                       {'type': 'text/html', 'language': None, 'base': 'https://clinicaltrials.gov/ct2/results/rss.xml?rcv_d=14&lup_d=&sel_rss=new14&cond=Alzheimer+Disease&count=10000', 'value': '<b>Conditions</b>:    Dementia;   Alzheimer Disease<br /><b>Interventions</b>:    Drug: Methotrexate;   Drug: Anti-TNF<br /><b>Sponsor</b>:    Janssen Research & Development, LLC<br /><b>Not yet recruiting</b>'}   \n",
       "8                                                                                                                                                                                                                          {'type': 'text/html', 'language': None, 'base': 'https://clinicaltrials.gov/ct2/results/rss.xml?rcv_d=14&lup_d=&sel_rss=new14&cond=Alzheimer+Disease&count=10000', 'value': '<b>Condition</b>:    Alzheimer Disease<br /><b>Intervention</b>:    Procedure: Infinitome<br /><b>Sponsor</b>:    HealthPartners Institute<br /><b>Enrolling by invitation</b>'}   \n",
       "9                                                             {'type': 'text/html', 'language': None, 'base': 'https://clinicaltrials.gov/ct2/results/rss.xml?rcv_d=14&lup_d=&sel_rss=new14&cond=Alzheimer+Disease&count=10000', 'value': '<b>Condition</b>:    Alzheimer Disease<br /><b>Interventions</b>:    Other: Light Therapy System (LTS): Active setting;   Other: Light Therapy System (LTS): Sham setting<br /><b>Sponsors</b>:    Zealand University Hospital;   Technical University of Denmark;   University of Copenhagen;   OptoCeutics<br /><b>Not yet recruiting</b>'}   \n",
       "10                                                                                                                                         {'type': 'text/html', 'language': None, 'base': 'https://clinicaltrials.gov/ct2/results/rss.xml?rcv_d=14&lup_d=&sel_rss=new14&cond=Alzheimer+Disease&count=10000', 'value': '<b>Condition</b>:    Alzheimer Disease<br /><b>Interventions</b>:    Behavioral: Standard Environmental Design;   Behavioral: Individual Environmental Design;   Behavioral: Placebo<br /><b>Sponsor</b>:    Elizabeth K Rhodus<br /><b>Not yet recruiting</b>'}   \n",
       "11                                                                                                                                {'type': 'text/html', 'language': None, 'base': 'https://clinicaltrials.gov/ct2/results/rss.xml?rcv_d=14&lup_d=&sel_rss=new14&cond=Alzheimer+Disease&count=10000', 'value': '<b>Conditions</b>:    Mild Cognitive Impairment;   Alzheimer Disease;   Cognitive Decline<br /><b>Intervention</b>:    Device: intermittent theta burst stimulation<br /><b>Sponsor</b>:    Taipei Medical University Shuang Ho Hospital<br /><b>Not yet recruiting</b>'}   \n",
       "12                                                                                                                                                     {'type': 'text/html', 'language': None, 'base': 'https://clinicaltrials.gov/ct2/results/rss.xml?rcv_d=14&lup_d=&sel_rss=new14&cond=Alzheimer+Disease&count=10000', 'value': '<b>Condition</b>:    Family Caregiver of Patient With Alzheimer Disease<br /><b>Intervention</b>:    Behavioral: Serious game Eurekoi intervention<br /><b>Sponsor</b>:    Centre Hospitalier Universitaire de Nice<br /><b>Not yet recruiting</b>'}   \n",
       "13                                                                                                                                                                                                                     {'type': 'text/html', 'language': None, 'base': 'https://clinicaltrials.gov/ct2/results/rss.xml?rcv_d=14&lup_d=&sel_rss=new14&cond=Alzheimer+Disease&count=10000', 'value': '<b>Conditions</b>:    Dementia;   Alzheimer Disease<br /><b>Intervention</b>:    Behavioral: Care Ecosystem<br /><b>Sponsor</b>:    Mclean Hospital<br /><b>Not yet recruiting</b>'}   \n",
       "14                                                                                                                                             {'type': 'text/html', 'language': None, 'base': 'https://clinicaltrials.gov/ct2/results/rss.xml?rcv_d=14&lup_d=&sel_rss=new14&cond=Alzheimer+Disease&count=10000', 'value': '<b>Conditions</b>:    Dementia;   Alzheimer Disease;   Anomia<br /><b>Interventions</b>:    Other: Gotcha! Therapy application;   Other: Gotcha Therapy application: Maintenance<br /><b>Sponsor</b>:    University College, London<br /><b>Recruiting</b>'}   \n",
       "15                                                                                                     {'type': 'text/html', 'language': None, 'base': 'https://clinicaltrials.gov/ct2/results/rss.xml?rcv_d=14&lup_d=&sel_rss=new14&cond=Alzheimer+Disease&count=10000', 'value': '<b>Conditions</b>:    Neurocognitive Disorders;   Alzheimer Disease;   Caregiver<br /><b>Intervention</b>:    Other: CareHeroes<br /><b>Sponsors</b>:    Florida International University;   National Institute on Aging (NIA);   University of Alabama, Tuscaloosa<br /><b>Not yet recruiting</b>'}   \n",
       "16                                                                                                         {'type': 'text/html', 'language': None, 'base': 'https://clinicaltrials.gov/ct2/results/rss.xml?rcv_d=14&lup_d=&sel_rss=new14&cond=Alzheimer+Disease&count=10000', 'value': '<b>Conditions</b>:    Mild Cognitive Impairment;   Alzheimer Disease;   Vascular Dementia<br /><b>Intervention</b>:    Diagnostic Test: Retinal fundus photography<br /><b>Sponsors</b>:    Mayo Clinic;   Eyenuk, Inc.;   Malavika Bhaskaranand PhD;   Kaushal Solanki<br /><b>Recruiting</b>'}   \n",
       "17                                                                                                                                                                              {'type': 'text/html', 'language': None, 'base': 'https://clinicaltrials.gov/ct2/results/rss.xml?rcv_d=14&lup_d=&sel_rss=new14&cond=Alzheimer+Disease&count=10000', 'value': '<b>Conditions</b>:    Neurodegenerative Diseases;   Alzheimer Disease;   Amyotrophic Lateral Sclerosis<br /><b>Intervention</b>:    Drug: [11C]MPC6827<br /><b>Sponsor</b>:    Columbia University<br /><b>Recruiting</b>'}   \n",
       "18                                                                                                                                                                                                                  {'type': 'text/html', 'language': None, 'base': 'https://clinicaltrials.gov/ct2/results/rss.xml?rcv_d=14&lup_d=&sel_rss=new14&cond=Alzheimer+Disease&count=10000', 'value': '<b>Conditions</b>:    Gait Apraxia;   Alzheimer Disease;   Impaired Cognition<br /><b>Intervention</b>:    <br /><b>Sponsor</b>:    University Hospital, Angers<br /><b>Completed</b>'}   \n",
       "19                                             {'type': 'text/html', 'language': None, 'base': 'https://clinicaltrials.gov/ct2/results/rss.xml?rcv_d=14&lup_d=&sel_rss=new14&cond=Alzheimer+Disease&count=10000', 'value': '<b>Conditions</b>:    Alzheimer Disease;   Dementia;   Mild Cognitive Impairment;   Cognitive Decline<br /><b>Interventions</b>:    Behavioral: MindMate + Health Coaching;   Other: Health Education<br /><b>Sponsors</b>:    Neurotrack Technologies, Inc.;   National Institute on Aging (NIA);   University of Arkansas<br /><b>Not yet recruiting</b>'}   \n",
       "20                                                                                                                                               {'type': 'text/html', 'language': None, 'base': 'https://clinicaltrials.gov/ct2/results/rss.xml?rcv_d=14&lup_d=&sel_rss=new14&cond=Alzheimer+Disease&count=10000', 'value': '<b>Conditions</b>:    Social Isolation;   Loneliness<br /><b>Interventions</b>:    Behavioral: Mindfulness;   Behavioral: Breathing<br /><b>Sponsors</b>:    University of Rochester;   National Institute on Aging (NIA)<br /><b>Not yet recruiting</b>'}   \n",
       "21  {'type': 'text/html', 'language': None, 'base': 'https://clinicaltrials.gov/ct2/results/rss.xml?rcv_d=14&lup_d=&sel_rss=new14&cond=Alzheimer+Disease&count=10000', 'value': '<b>Conditions</b>:    Dementia;   Dementia, Vascular;   Dementia, Mixed;   Dementia With Lewy Bodies;   Dementia Frontal;   Dementia Severe;   Dementia Moderate;   Dementia of Alzheimer Type<br /><b>Intervention</b>:    Other: Advanced Cognitive Stimulation Therapy Hong Kong<br /><b>Sponsors</b>:    University College, London;   The University of Hong Kong<br /><b>Not yet recruiting</b>'}   \n",
       "22                                                                                                                                                                            {'type': 'text/html', 'language': None, 'base': 'https://clinicaltrials.gov/ct2/results/rss.xml?rcv_d=14&lup_d=&sel_rss=new14&cond=Alzheimer+Disease&count=10000', 'value': '<b>Condition</b>:    Behavioral Disorder<br /><b>Intervention</b>:    Procedure: Home visit<br /><b>Sponsors</b>:    Centre Hospitalier Universitaire de Nice;   Fondation Médéric Alzheimer<br /><b>Not yet recruiting</b>'}   \n",
       "\n",
       "                                                                                                                                                                                                                                                                                                                                                                                                  summary  \\\n",
       "0                                                                                                                                                                                                                                                          <b>Condition</b>:    Alzheimer Disease<br /><b>Intervention</b>:    <br /><b>Sponsor</b>:    Capital Medical University<br /><b>Recruiting</b>   \n",
       "1                                                        <b>Condition</b>:    Alzheimer Disease<br /><b>Interventions</b>:    Drug: Caffeine;   Drug: Placebo<br /><b>Sponsors</b>:    University Hospital, Lille;   Groupement Interrégional de Recherche Clinique et d'Innovation;   Laboratory of excellence DISTALZ;   Région Nord-Pas de Calais, France;   Meo coffee<br /><b>Not yet recruiting</b>   \n",
       "2                                                                                                                                                                                                 <b>Condition</b>:    Alzheimer Disease<br /><b>Interventions</b>:    Device: rTMS with H-coil;   Device: Sham rTMS stimulation with H-coil<br /><b>Sponsor</b>:    Giancarlo Comi<br /><b>Completed</b>   \n",
       "3                                                                                                                                                                             <b>Condition</b>:    Alzheimer Disease<br /><b>Intervention</b>:    Other: Experimental meal<br /><b>Sponsors</b>:    National Research Council, Spain;   Hospitales Universitarios Virgen del Rocío<br /><b>Recruiting</b>   \n",
       "4                                                                                                                                                                                                                     <b>Condition</b>:    Alzheimer's Disease (AD)<br /><b>Intervention</b>:    Device: Dreem headband<br /><b>Sponsor</b>:    University Hospital, Tours<br /><b>Not yet recruiting</b>   \n",
       "5                                                                                                                                                                                                                  <b>Condition</b>:    Alzheimer Disease (AD)<br /><b>Interventions</b>:    Drug: [18F]GTP1;   Drug: [18F]PI-2620<br /><b>Sponsor</b>:    Genentech, Inc.<br /><b>Not yet recruiting</b>   \n",
       "6                                                                                                                                                      <b>Conditions</b>:    Healthy Volunteers;   Alzheimer Disease<br /><b>Intervention</b>:    Drug: ALZT-OP1 (cromolyn and ibuprofen) ALZT-OP1a (cromolyn) and ALZT-OP1b (ibuprofen)<br /><b>Sponsor</b>:    AZTherapies, Inc.<br /><b>Recruiting</b>   \n",
       "7                                                                                                                                                                                       <b>Conditions</b>:    Dementia;   Alzheimer Disease<br /><b>Interventions</b>:    Drug: Methotrexate;   Drug: Anti-TNF<br /><b>Sponsor</b>:    Janssen Research & Development, LLC<br /><b>Not yet recruiting</b>   \n",
       "8                                                                                                                                                                                                                          <b>Condition</b>:    Alzheimer Disease<br /><b>Intervention</b>:    Procedure: Infinitome<br /><b>Sponsor</b>:    HealthPartners Institute<br /><b>Enrolling by invitation</b>   \n",
       "9                                                             <b>Condition</b>:    Alzheimer Disease<br /><b>Interventions</b>:    Other: Light Therapy System (LTS): Active setting;   Other: Light Therapy System (LTS): Sham setting<br /><b>Sponsors</b>:    Zealand University Hospital;   Technical University of Denmark;   University of Copenhagen;   OptoCeutics<br /><b>Not yet recruiting</b>   \n",
       "10                                                                                                                                         <b>Condition</b>:    Alzheimer Disease<br /><b>Interventions</b>:    Behavioral: Standard Environmental Design;   Behavioral: Individual Environmental Design;   Behavioral: Placebo<br /><b>Sponsor</b>:    Elizabeth K Rhodus<br /><b>Not yet recruiting</b>   \n",
       "11                                                                                                                                <b>Conditions</b>:    Mild Cognitive Impairment;   Alzheimer Disease;   Cognitive Decline<br /><b>Intervention</b>:    Device: intermittent theta burst stimulation<br /><b>Sponsor</b>:    Taipei Medical University Shuang Ho Hospital<br /><b>Not yet recruiting</b>   \n",
       "12                                                                                                                                                     <b>Condition</b>:    Family Caregiver of Patient With Alzheimer Disease<br /><b>Intervention</b>:    Behavioral: Serious game Eurekoi intervention<br /><b>Sponsor</b>:    Centre Hospitalier Universitaire de Nice<br /><b>Not yet recruiting</b>   \n",
       "13                                                                                                                                                                                                                     <b>Conditions</b>:    Dementia;   Alzheimer Disease<br /><b>Intervention</b>:    Behavioral: Care Ecosystem<br /><b>Sponsor</b>:    Mclean Hospital<br /><b>Not yet recruiting</b>   \n",
       "14                                                                                                                                             <b>Conditions</b>:    Dementia;   Alzheimer Disease;   Anomia<br /><b>Interventions</b>:    Other: Gotcha! Therapy application;   Other: Gotcha Therapy application: Maintenance<br /><b>Sponsor</b>:    University College, London<br /><b>Recruiting</b>   \n",
       "15                                                                                                     <b>Conditions</b>:    Neurocognitive Disorders;   Alzheimer Disease;   Caregiver<br /><b>Intervention</b>:    Other: CareHeroes<br /><b>Sponsors</b>:    Florida International University;   National Institute on Aging (NIA);   University of Alabama, Tuscaloosa<br /><b>Not yet recruiting</b>   \n",
       "16                                                                                                         <b>Conditions</b>:    Mild Cognitive Impairment;   Alzheimer Disease;   Vascular Dementia<br /><b>Intervention</b>:    Diagnostic Test: Retinal fundus photography<br /><b>Sponsors</b>:    Mayo Clinic;   Eyenuk, Inc.;   Malavika Bhaskaranand PhD;   Kaushal Solanki<br /><b>Recruiting</b>   \n",
       "17                                                                                                                                                                              <b>Conditions</b>:    Neurodegenerative Diseases;   Alzheimer Disease;   Amyotrophic Lateral Sclerosis<br /><b>Intervention</b>:    Drug: [11C]MPC6827<br /><b>Sponsor</b>:    Columbia University<br /><b>Recruiting</b>   \n",
       "18                                                                                                                                                                                                                  <b>Conditions</b>:    Gait Apraxia;   Alzheimer Disease;   Impaired Cognition<br /><b>Intervention</b>:    <br /><b>Sponsor</b>:    University Hospital, Angers<br /><b>Completed</b>   \n",
       "19                                             <b>Conditions</b>:    Alzheimer Disease;   Dementia;   Mild Cognitive Impairment;   Cognitive Decline<br /><b>Interventions</b>:    Behavioral: MindMate + Health Coaching;   Other: Health Education<br /><b>Sponsors</b>:    Neurotrack Technologies, Inc.;   National Institute on Aging (NIA);   University of Arkansas<br /><b>Not yet recruiting</b>   \n",
       "20                                                                                                                                               <b>Conditions</b>:    Social Isolation;   Loneliness<br /><b>Interventions</b>:    Behavioral: Mindfulness;   Behavioral: Breathing<br /><b>Sponsors</b>:    University of Rochester;   National Institute on Aging (NIA)<br /><b>Not yet recruiting</b>   \n",
       "21  <b>Conditions</b>:    Dementia;   Dementia, Vascular;   Dementia, Mixed;   Dementia With Lewy Bodies;   Dementia Frontal;   Dementia Severe;   Dementia Moderate;   Dementia of Alzheimer Type<br /><b>Intervention</b>:    Other: Advanced Cognitive Stimulation Therapy Hong Kong<br /><b>Sponsors</b>:    University College, London;   The University of Hong Kong<br /><b>Not yet recruiting</b>   \n",
       "22                                                                                                                                                                            <b>Condition</b>:    Behavioral Disorder<br /><b>Intervention</b>:    Procedure: Home visit<br /><b>Sponsors</b>:    Centre Hospitalier Universitaire de Nice;   Fondation Médéric Alzheimer<br /><b>Not yet recruiting</b>   \n",
       "\n",
       "                        published           id  \n",
       "0   Mon, 05 Oct 2020 12:00:00 EDT  NCT04575337  \n",
       "1   Wed, 30 Sep 2020 12:00:00 EDT  NCT04570085  \n",
       "2   Thu, 24 Sep 2020 12:00:00 EDT  NCT04562506  \n",
       "3   Wed, 23 Sep 2020 12:00:00 EDT  NCT04559828  \n",
       "4   Wed, 30 Sep 2020 12:00:00 EDT  NCT04570761  \n",
       "5   Mon, 28 Sep 2020 12:00:00 EDT  NCT04566003  \n",
       "6   Wed, 30 Sep 2020 12:00:00 EDT  NCT04570644  \n",
       "7   Thu, 01 Oct 2020 12:00:00 EDT  NCT04571697  \n",
       "8   Thu, 24 Sep 2020 12:00:00 EDT  NCT04563767  \n",
       "9   Mon, 05 Oct 2020 12:00:00 EDT  NCT04574921  \n",
       "10  Mon, 21 Sep 2020 12:00:00 EDT  NCT04555616  \n",
       "11  Mon, 21 Sep 2020 12:00:00 EDT  NCT04555941  \n",
       "12  Fri, 02 Oct 2020 12:00:00 EDT  NCT04573985  \n",
       "13  Mon, 21 Sep 2020 12:00:00 EDT  NCT04556097  \n",
       "14  Wed, 30 Sep 2020 12:00:00 EDT  NCT04570215  \n",
       "15  Thu, 01 Oct 2020 12:00:00 EDT  NCT04571502  \n",
       "16  Mon, 28 Sep 2020 12:00:00 EDT  NCT04567745  \n",
       "17  Mon, 05 Oct 2020 12:00:00 EDT  NCT04575727  \n",
       "18  Mon, 21 Sep 2020 12:00:00 EDT  NCT04557592  \n",
       "19  Wed, 23 Sep 2020 12:00:00 EDT  NCT04559789  \n",
       "20  Wed, 23 Sep 2020 12:00:00 EDT  NCT04560088  \n",
       "21  Mon, 21 Sep 2020 12:00:00 EDT  NCT04555629  \n",
       "22  Fri, 02 Oct 2020 12:00:00 EDT  NCT04573829  "
      ]
     },
     "execution_count": 9,
     "metadata": {},
     "output_type": "execute_result"
    }
   ],
   "source": [
    "df_al['title'] = [post.title for post in Alzheimer_d.entries]\n",
    "df_al['summary_detail'] = [post.summary_detail for post in Alzheimer_d.entries]\n",
    "df_al['summary'] = [post.summary for post in Alzheimer_d.entries]\n",
    "df_al['published'] = [post.published for post in Alzheimer_d.entries]\n",
    "df_al['id'] = [post.id for post in Alzheimer_d.entries]\n",
    "#df['title'] = [post.title for post in fd.entries]\n",
    "#pd.set_option(\"display.max_rows\", None, \"display.max_columns\", None)\n",
    "pd.options.display.max_colwidth = 1000\n",
    "df_al"
   ]
  },
  {
   "cell_type": "code",
   "execution_count": 10,
   "metadata": {},
   "outputs": [
    {
     "name": "stderr",
     "output_type": "stream",
     "text": [
      "C:\\ProgramData\\Anaconda3\\lib\\site-packages\\dateutil\\parser\\_parser.py:1213: UnknownTimezoneWarning: tzname EDT identified but not understood.  Pass `tzinfos` argument in order to correctly return a timezone-aware datetime.  In a future version, this will raise an exception.\n",
      "  warnings.warn(\"tzname {tzname} identified but not understood.  \"\n",
      "C:\\ProgramData\\Anaconda3\\lib\\site-packages\\dateutil\\parser\\_parser.py:1213: UnknownTimezoneWarning: tzname EST identified but not understood.  Pass `tzinfos` argument in order to correctly return a timezone-aware datetime.  In a future version, this will raise an exception.\n",
      "  warnings.warn(\"tzname {tzname} identified but not understood.  \"\n"
     ]
    }
   ],
   "source": [
    "\n",
    "df['published'] = df['published'].astype('datetime64[ns]')"
   ]
  },
  {
   "cell_type": "code",
   "execution_count": 11,
   "metadata": {},
   "outputs": [],
   "source": [
    "df['published_year'] = df['published'].dt.year"
   ]
  },
  {
   "cell_type": "code",
   "execution_count": 12,
   "metadata": {},
   "outputs": [
    {
     "data": {
      "image/png": "[encoded data removed]",
      "text/plain": [
       "<Figure size 792x504 with 1 Axes>"
      ]
     },
     "metadata": {
      "needs_background": "light"
     },
     "output_type": "display_data"
    }
   ],
   "source": [
    "fig, ax = plt.subplots(figsize=(11,7))\n",
    "df.groupby(['published_year']).count()['id'].plot(ax = ax)\n",
    "plt.title('Distribution of Activity published over the time for Wolman Desease', size=15)\n",
    "plt.xlabel('Year')\n",
    "plt.ylabel('Number of Activities')\n",
    "plt.savefig('number_of_activities_over_time');"
   ]
  },
  {
   "cell_type": "markdown",
   "metadata": {},
   "source": [
    "## As per the given dataset  most number of activities for Wolman Desease are published in the year 2015. the activities were relatively more before the year 2012 but gradually dropped to zero and slowly it got high up in the year 2015 ."
   ]
  },
  {
   "cell_type": "code",
   "execution_count": 13,
   "metadata": {},
   "outputs": [
    {
     "name": "stderr",
     "output_type": "stream",
     "text": [
      "C:\\ProgramData\\Anaconda3\\lib\\site-packages\\dateutil\\parser\\_parser.py:1213: UnknownTimezoneWarning: tzname EDT identified but not understood.  Pass `tzinfos` argument in order to correctly return a timezone-aware datetime.  In a future version, this will raise an exception.\n",
      "  warnings.warn(\"tzname {tzname} identified but not understood.  \"\n"
     ]
    }
   ],
   "source": [
    "df_al['published'] = df_al['published'].astype('datetime64[ns]')"
   ]
  },
  {
   "cell_type": "code",
   "execution_count": 23,
   "metadata": {},
   "outputs": [],
   "source": [
    "sr = df_al['published_month'] = df_al['published'].dt.month"
   ]
  },
  {
   "cell_type": "code",
   "execution_count": 16,
   "metadata": {},
   "outputs": [
    {
     "data": {
      "text/plain": [
       "published_year\n",
       "2020    23\n",
       "Name: id, dtype: int64"
      ]
     },
     "execution_count": 16,
     "metadata": {},
     "output_type": "execute_result"
    }
   ],
   "source": [
    "df_al.groupby(['published_year']).count()['id']"
   ]
  },
  {
   "cell_type": "code",
   "execution_count": 20,
   "metadata": {},
   "outputs": [
    {
     "data": {
      "text/plain": [
       "pandas.core.series.Series"
      ]
     },
     "execution_count": 20,
     "metadata": {},
     "output_type": "execute_result"
    }
   ],
   "source": [
    "type(df_al['published_month'])"
   ]
  },
  {
   "cell_type": "code",
   "execution_count": 24,
   "metadata": {},
   "outputs": [
    {
     "data": {
      "text/plain": [
       "0     10\n",
       "1      9\n",
       "2      9\n",
       "3      9\n",
       "4      9\n",
       "5      9\n",
       "6      9\n",
       "7     10\n",
       "8      9\n",
       "9     10\n",
       "10     9\n",
       "11     9\n",
       "12    10\n",
       "13     9\n",
       "14     9\n",
       "15    10\n",
       "16     9\n",
       "17    10\n",
       "18     9\n",
       "19     9\n",
       "20     9\n",
       "21     9\n",
       "22    10\n",
       "Name: published, dtype: category\n",
       "Categories (2, int64): [9, 10]"
      ]
     },
     "execution_count": 24,
     "metadata": {},
     "output_type": "execute_result"
    }
   ],
   "source": [
    "sr.astype('category')"
   ]
  },
  {
   "cell_type": "code",
   "execution_count": 28,
   "metadata": {},
   "outputs": [
    {
     "data": {
      "text/plain": [
       "[Text(0, 0, 'Sep 2020'), Text(0, 0, 'Oct 2020')]"
      ]
     },
     "execution_count": 28,
     "metadata": {},
     "output_type": "execute_result"
    },
    {
     "data": {
      "image/png": "[encoded data removed]",
      "text/plain": [
       "<Figure size 432x288 with 1 Axes>"
      ]
     },
     "metadata": {
      "needs_background": "light"
     },
     "output_type": "display_data"
    }
   ],
   "source": [
    "base_color = sns.color_palette()[0]\n",
    "g = sns.countplot(data = df_al, x = 'published_month', color = base_color)\n",
    "g.set_xticklabels(['Sep 2020' , 'Oct 2020'])"
   ]
  },
  {
   "cell_type": "markdown",
   "metadata": {},
   "source": [
    "## Above plot demonstrate that there are more activities in September 2020 than in October 2020  related to Alzheimer Desease."
   ]
  },
  {
   "cell_type": "code",
   "execution_count": 29,
   "metadata": {},
   "outputs": [
    {
     "name": "stdout",
     "output_type": "stream",
     "text": [
      "<class 'pandas.core.frame.DataFrame'>\n",
      "RangeIndex: 10 entries, 0 to 9\n",
      "Data columns (total 6 columns):\n",
      " #   Column          Non-Null Count  Dtype         \n",
      "---  ------          --------------  -----         \n",
      " 0   title           10 non-null     object        \n",
      " 1   summary_detail  10 non-null     object        \n",
      " 2   summary         10 non-null     object        \n",
      " 3   published       10 non-null     datetime64[ns]\n",
      " 4   id              10 non-null     object        \n",
      " 5   published_year  10 non-null     int64         \n",
      "dtypes: datetime64[ns](1), int64(1), object(4)\n",
      "memory usage: 608.0+ bytes\n"
     ]
    }
   ],
   "source": [
    "df.info()"
   ]
  },
  {
   "cell_type": "code",
   "execution_count": 30,
   "metadata": {},
   "outputs": [
    {
     "name": "stdout",
     "output_type": "stream",
     "text": [
      "<class 'pandas.core.frame.DataFrame'>\n",
      "RangeIndex: 23 entries, 0 to 22\n",
      "Data columns (total 7 columns):\n",
      " #   Column           Non-Null Count  Dtype         \n",
      "---  ------           --------------  -----         \n",
      " 0   title            23 non-null     object        \n",
      " 1   summary_detail   23 non-null     object        \n",
      " 2   summary          23 non-null     object        \n",
      " 3   published        23 non-null     datetime64[ns]\n",
      " 4   id               23 non-null     object        \n",
      " 5   published_year   23 non-null     int64         \n",
      " 6   published_month  23 non-null     int64         \n",
      "dtypes: datetime64[ns](1), int64(2), object(4)\n",
      "memory usage: 1.4+ KB\n"
     ]
    }
   ],
   "source": [
    "df_al.info()"
   ]
  },
  {
   "cell_type": "code",
   "execution_count": null,
   "metadata": {},
   "outputs": [],
   "source": []
  }
 ],
 "metadata": {
  "kernelspec": {
   "display_name": "Python 3",
   "language": "python",
   "name": "python3"
  },
  "language_info": {
   "codemirror_mode": {
    "name": "ipython",
    "version": 3
   },
   "file_extension": ".py",
   "mimetype": "text/x-python",
   "name": "python",
   "nbconvert_exporter": "python",
   "pygments_lexer": "ipython3",
   "version": "3.8.3"
  }
 },
 "nbformat": 4,
 "nbformat_minor": 4
}
